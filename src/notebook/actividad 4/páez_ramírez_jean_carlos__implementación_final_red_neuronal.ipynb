{
  "cells": [
    {
      "cell_type": "markdown",
      "source": [
        "<div style=\"text-align: center;\">\n",
        "  <span style=\"color:#809bd8; font-size: 24px; font-weight: bold;\">Institución Universitaria Digital de Antioquia</span>\n",
        "  <br>\n",
        "  <img src=\"https://imgur.com/KUMa2uy.png\" alt=\"DataFrame frutas\" style=\"max-width: 20%; height: auto;\">\n",
        "</div>\n",
        "\n",
        "---\n",
        "**<span style=\"color:#809bd8\">Evidencia de Aprendizaje:</span>** F30 - Evidencia de aprendizaje 4: Implementación final de red neuronal\n",
        "\n",
        "**<span style=\"color:#809bd8\">Asignatura:</span>** Principios de Deep Learning y Redes Neuronales\n",
        "\n",
        "**<span style=\"color:#809bd8\">Estudiante:</span>** Jean Carlos Páez Ramírez\n",
        "\n",
        "**<span style=\"color:#809bd8\">Grupo:</span>** PREICA2501B020140\n",
        "\n",
        "**<span style=\"color:#809bd8\">Docente:</span>** Sharon Karin Camacho Guzman (Ingeniera Administradora Especialista en ingeniería Financiera de la Universidad Nacional de Colombia)\n",
        "\n",
        "**<span style=\"color:#809bd8\">Fecha:</span>** 13 de junio de 2025"
      ],
      "metadata": {
        "id": "poVSGIoXxLni"
      }
    },
    {
      "cell_type": "markdown",
      "source": [
        "### **Instalación de librerías necesarias**\n",
        "\n",
        "Este bloque de código instala las librerías necesarias para el proyecto. `tensorflow-datasets` proporciona acceso a conjuntos de datos predefinidos para TensorFlow, facilitando la carga y el uso de datos para entrenamiento y evaluación de modelos. `keras-tuner` permite la optimización de hiperparámetros en modelos de Keras, encontrando la mejor configuración para el modelo. Estas librerías son esenciales para el desarrollo y la mejora del modelo de análisis de sentimiento.\n"
      ],
      "metadata": {
        "id": "HLQLJ3FEp1kI"
      }
    },
    {
      "cell_type": "code",
      "execution_count": 2,
      "metadata": {
        "id": "vw2ZZc1TsYCI",
        "colab": {
          "base_uri": "https://localhost:8080/",
          "height": 0
        },
        "outputId": "3ac9a20b-3bb1-425d-bd29-88dd07b11bc3"
      },
      "outputs": [
        {
          "output_type": "stream",
          "name": "stdout",
          "text": [
            "Requirement already satisfied: tensorflow-datasets in /usr/local/lib/python3.11/dist-packages (4.9.9)\n",
            "Requirement already satisfied: absl-py in /usr/local/lib/python3.11/dist-packages (from tensorflow-datasets) (1.4.0)\n",
            "Requirement already satisfied: array_record>=0.5.0 in /usr/local/lib/python3.11/dist-packages (from tensorflow-datasets) (0.7.2)\n",
            "Requirement already satisfied: dm-tree in /usr/local/lib/python3.11/dist-packages (from tensorflow-datasets) (0.1.9)\n",
            "Requirement already satisfied: etils>=1.9.1 in /usr/local/lib/python3.11/dist-packages (from etils[edc,enp,epath,epy,etree]>=1.9.1; python_version >= \"3.11\"->tensorflow-datasets) (1.12.2)\n",
            "Requirement already satisfied: immutabledict in /usr/local/lib/python3.11/dist-packages (from tensorflow-datasets) (4.2.1)\n",
            "Requirement already satisfied: numpy in /usr/local/lib/python3.11/dist-packages (from tensorflow-datasets) (2.0.2)\n",
            "Requirement already satisfied: promise in /usr/local/lib/python3.11/dist-packages (from tensorflow-datasets) (2.3)\n",
            "Requirement already satisfied: protobuf>=3.20 in /usr/local/lib/python3.11/dist-packages (from tensorflow-datasets) (5.29.5)\n",
            "Requirement already satisfied: psutil in /usr/local/lib/python3.11/dist-packages (from tensorflow-datasets) (5.9.5)\n",
            "Requirement already satisfied: pyarrow in /usr/local/lib/python3.11/dist-packages (from tensorflow-datasets) (18.1.0)\n",
            "Requirement already satisfied: requests>=2.19.0 in /usr/local/lib/python3.11/dist-packages (from tensorflow-datasets) (2.32.3)\n",
            "Requirement already satisfied: simple_parsing in /usr/local/lib/python3.11/dist-packages (from tensorflow-datasets) (0.1.7)\n",
            "Requirement already satisfied: tensorflow-metadata in /usr/local/lib/python3.11/dist-packages (from tensorflow-datasets) (1.17.1)\n",
            "Requirement already satisfied: termcolor in /usr/local/lib/python3.11/dist-packages (from tensorflow-datasets) (3.1.0)\n",
            "Requirement already satisfied: toml in /usr/local/lib/python3.11/dist-packages (from tensorflow-datasets) (0.10.2)\n",
            "Requirement already satisfied: tqdm in /usr/local/lib/python3.11/dist-packages (from tensorflow-datasets) (4.67.1)\n",
            "Requirement already satisfied: wrapt in /usr/local/lib/python3.11/dist-packages (from tensorflow-datasets) (1.17.2)\n",
            "Requirement already satisfied: einops in /usr/local/lib/python3.11/dist-packages (from etils[edc,enp,epath,epy,etree]>=1.9.1; python_version >= \"3.11\"->tensorflow-datasets) (0.8.1)\n",
            "Requirement already satisfied: fsspec in /usr/local/lib/python3.11/dist-packages (from etils[edc,enp,epath,epy,etree]>=1.9.1; python_version >= \"3.11\"->tensorflow-datasets) (2025.3.2)\n",
            "Requirement already satisfied: importlib_resources in /usr/local/lib/python3.11/dist-packages (from etils[edc,enp,epath,epy,etree]>=1.9.1; python_version >= \"3.11\"->tensorflow-datasets) (6.5.2)\n",
            "Requirement already satisfied: typing_extensions in /usr/local/lib/python3.11/dist-packages (from etils[edc,enp,epath,epy,etree]>=1.9.1; python_version >= \"3.11\"->tensorflow-datasets) (4.14.0)\n",
            "Requirement already satisfied: zipp in /usr/local/lib/python3.11/dist-packages (from etils[edc,enp,epath,epy,etree]>=1.9.1; python_version >= \"3.11\"->tensorflow-datasets) (3.22.0)\n",
            "Requirement already satisfied: charset-normalizer<4,>=2 in /usr/local/lib/python3.11/dist-packages (from requests>=2.19.0->tensorflow-datasets) (3.4.2)\n",
            "Requirement already satisfied: idna<4,>=2.5 in /usr/local/lib/python3.11/dist-packages (from requests>=2.19.0->tensorflow-datasets) (3.10)\n",
            "Requirement already satisfied: urllib3<3,>=1.21.1 in /usr/local/lib/python3.11/dist-packages (from requests>=2.19.0->tensorflow-datasets) (2.4.0)\n",
            "Requirement already satisfied: certifi>=2017.4.17 in /usr/local/lib/python3.11/dist-packages (from requests>=2.19.0->tensorflow-datasets) (2025.4.26)\n",
            "Requirement already satisfied: attrs>=18.2.0 in /usr/local/lib/python3.11/dist-packages (from dm-tree->tensorflow-datasets) (25.3.0)\n",
            "Requirement already satisfied: six in /usr/local/lib/python3.11/dist-packages (from promise->tensorflow-datasets) (1.17.0)\n",
            "Requirement already satisfied: docstring-parser<1.0,>=0.15 in /usr/local/lib/python3.11/dist-packages (from simple_parsing->tensorflow-datasets) (0.16)\n",
            "Requirement already satisfied: googleapis-common-protos<2,>=1.56.4 in /usr/local/lib/python3.11/dist-packages (from tensorflow-metadata->tensorflow-datasets) (1.70.0)\n",
            "Collecting keras-tuner\n",
            "  Downloading keras_tuner-1.4.7-py3-none-any.whl.metadata (5.4 kB)\n",
            "Requirement already satisfied: keras in /usr/local/lib/python3.11/dist-packages (from keras-tuner) (3.8.0)\n",
            "Requirement already satisfied: packaging in /usr/local/lib/python3.11/dist-packages (from keras-tuner) (24.2)\n",
            "Requirement already satisfied: requests in /usr/local/lib/python3.11/dist-packages (from keras-tuner) (2.32.3)\n",
            "Collecting kt-legacy (from keras-tuner)\n",
            "  Downloading kt_legacy-1.0.5-py3-none-any.whl.metadata (221 bytes)\n",
            "Requirement already satisfied: absl-py in /usr/local/lib/python3.11/dist-packages (from keras->keras-tuner) (1.4.0)\n",
            "Requirement already satisfied: numpy in /usr/local/lib/python3.11/dist-packages (from keras->keras-tuner) (2.0.2)\n",
            "Requirement already satisfied: rich in /usr/local/lib/python3.11/dist-packages (from keras->keras-tuner) (13.9.4)\n",
            "Requirement already satisfied: namex in /usr/local/lib/python3.11/dist-packages (from keras->keras-tuner) (0.1.0)\n",
            "Requirement already satisfied: h5py in /usr/local/lib/python3.11/dist-packages (from keras->keras-tuner) (3.13.0)\n",
            "Requirement already satisfied: optree in /usr/local/lib/python3.11/dist-packages (from keras->keras-tuner) (0.16.0)\n",
            "Requirement already satisfied: ml-dtypes in /usr/local/lib/python3.11/dist-packages (from keras->keras-tuner) (0.4.1)\n",
            "Requirement already satisfied: charset-normalizer<4,>=2 in /usr/local/lib/python3.11/dist-packages (from requests->keras-tuner) (3.4.2)\n",
            "Requirement already satisfied: idna<4,>=2.5 in /usr/local/lib/python3.11/dist-packages (from requests->keras-tuner) (3.10)\n",
            "Requirement already satisfied: urllib3<3,>=1.21.1 in /usr/local/lib/python3.11/dist-packages (from requests->keras-tuner) (2.4.0)\n",
            "Requirement already satisfied: certifi>=2017.4.17 in /usr/local/lib/python3.11/dist-packages (from requests->keras-tuner) (2025.4.26)\n",
            "Requirement already satisfied: typing-extensions>=4.6.0 in /usr/local/lib/python3.11/dist-packages (from optree->keras->keras-tuner) (4.14.0)\n",
            "Requirement already satisfied: markdown-it-py>=2.2.0 in /usr/local/lib/python3.11/dist-packages (from rich->keras->keras-tuner) (3.0.0)\n",
            "Requirement already satisfied: pygments<3.0.0,>=2.13.0 in /usr/local/lib/python3.11/dist-packages (from rich->keras->keras-tuner) (2.19.1)\n",
            "Requirement already satisfied: mdurl~=0.1 in /usr/local/lib/python3.11/dist-packages (from markdown-it-py>=2.2.0->rich->keras->keras-tuner) (0.1.2)\n",
            "Downloading keras_tuner-1.4.7-py3-none-any.whl (129 kB)\n",
            "\u001b[2K   \u001b[90m━━━━━━━━━━━━━━━━━━━━━━━━━━━━━━━━━━━━━━━━\u001b[0m \u001b[32m129.1/129.1 kB\u001b[0m \u001b[31m2.4 MB/s\u001b[0m eta \u001b[36m0:00:00\u001b[0m\n",
            "\u001b[?25hDownloading kt_legacy-1.0.5-py3-none-any.whl (9.6 kB)\n",
            "Installing collected packages: kt-legacy, keras-tuner\n",
            "Successfully installed keras-tuner-1.4.7 kt-legacy-1.0.5\n"
          ]
        }
      ],
      "source": [
        "# Instalación de librerías necesarias para cargar datos y optimizar hiperparámetros\n",
        "!pip install tensorflow-datasets  # Librería para conjuntos de datos\n",
        "!pip install keras-tuner          # Librería para búsqueda de hiperparámetros"
      ]
    },
    {
      "cell_type": "markdown",
      "source": [
        "### **Importación de librerías necesarias**\n",
        "\n",
        "En este bloque se importan todas las librerías y módulos que se utilizarán a lo largo del proyecto. Estas incluyen herramientas para manipulación de datos, procesamiento de texto, construcción y entrenamiento de modelos de deep learning, visualización de resultados, manejo de archivos y optimización de hiperparámetros. La correcta importación y organización de estas librerías es fundamental para el desarrollo eficiente y ordenado del código."
      ],
      "metadata": {
        "id": "BLDpGt8OqSux"
      }
    },
    {
      "cell_type": "code",
      "source": [
        "import os  # Para operaciones del sistema operativo, como manejo de archivos y directorios\n",
        "import re  # Para expresiones regulares, útil en limpieza y preprocesamiento de texto\n",
        "import pickle  # Para serializar y guardar objetos de Python, como el tokenizer\n",
        "import numpy as np  # Biblioteca para operaciones numéricas y manejo de arrays\n",
        "import pandas as pd  # Biblioteca para manipulación y análisis de datos en formato tabular\n",
        "import tensorflow as tf  # Framework principal para construir y entrenar modelos de deep learning\n",
        "import matplotlib.pyplot as plt  # Para crear gráficos y visualizaciones\n",
        "import requests  # Para realizar solicitudes HTTP, útil para descargar archivos\n",
        "import gzip  # Para manejar archivos comprimidos en formato gzip\n",
        "import shutil  # Para operaciones de alto nivel con archivos y directorios\n",
        "import json  # Para manejar datos en formato JSON\n",
        "import seaborn as sns  # Biblioteca para visualización estadística basada en matplotlib\n",
        "\n",
        "# Importaciones específicas de Keras y scikit-learn para procesamiento y modelado\n",
        "from tensorflow.keras import regularizers  # Para aplicar regularización en capas del modelo\n",
        "from tensorflow.keras.preprocessing.text import Tokenizer  # Para tokenizar texto en secuencias numéricas\n",
        "from tensorflow.keras.preprocessing.sequence import pad_sequences  # Para ajustar la longitud de secuencias\n",
        "from tensorflow.keras import layers, models, callbacks  # Componentes para construir y entrenar modelos\n",
        "from tensorflow.keras.models import Sequential  # Modelo secuencial de Keras para construir redes neuronales\n",
        "from sklearn.model_selection import train_test_split  # Para dividir datos en entrenamiento y prueba\n",
        "from sklearn.metrics import classification_report, confusion_matrix  # Para evaluar el desempeño del modelo\n",
        "from sklearn.utils import class_weight  # Para calcular pesos de clases en datasets desbalanceados\n",
        "from keras_tuner import HyperParameters  # Para definir espacios de búsqueda de hiperparámetros\n",
        "import keras_tuner as kt  # Librería para optimización automática de hiperparámetros"
      ],
      "metadata": {
        "id": "1zINIWbhTxK6"
      },
      "execution_count": 3,
      "outputs": []
    },
    {
      "cell_type": "markdown",
      "source": [
        "### **1. Descarga y preparación de los embeddings FastText en español**\n",
        "Esta función se encarga de descargar y descomprimir el archivo de embeddings preentrenados FastText en español con 300 dimensiones. Los embeddings son representaciones vectoriales de palabras que capturan su significado y contexto, y son fundamentales para mejorar el rendimiento del modelo de análisis de sentimiento. La función verifica si el archivo ya existe para evitar descargas innecesarias, descarga el archivo comprimido si es necesario, lo descomprime y elimina el archivo comprimido para ahorrar espacio."
      ],
      "metadata": {
        "id": "IwIHzJ_rqoO-"
      }
    },
    {
      "cell_type": "code",
      "source": [
        "# 1. Descargar y preparar FastText embeddings en español\n",
        "\n",
        "def download_and_extract_fasttext():\n",
        "    # URL del archivo comprimido con los embeddings FastText en español\n",
        "    fasttext_url = 'https://dl.fbaipublicfiles.com/fasttext/vectors-crawl/cc.es.300.vec.gz'\n",
        "    fasttext_gz = 'cc.es.300.vec.gz'  # Nombre del archivo comprimido\n",
        "    fasttext_file = 'cc.es.300.vec'   # Nombre del archivo descomprimido\n",
        "\n",
        "    # Verifica si el archivo descomprimido ya existe para evitar descargarlo de nuevo\n",
        "    if not os.path.exists(fasttext_file):\n",
        "        print(\"Descargando FastText embeddings en español (300d)...\")\n",
        "        # Realiza la descarga en modo streaming para manejar archivos grandes\n",
        "        r = requests.get(fasttext_url, stream=True)\n",
        "        with open(fasttext_gz, 'wb') as f:\n",
        "            # Escribe el archivo en bloques de 1024 bytes para eficiencia\n",
        "            for chunk in r.iter_content(chunk_size=1024):\n",
        "                if chunk:\n",
        "                    f.write(chunk)\n",
        "        print(\"Descomprimiendo archivo...\")\n",
        "        # Descomprime el archivo gzip y guarda el contenido en el archivo final\n",
        "        with gzip.open(fasttext_gz, 'rb') as f_in:\n",
        "            with open(fasttext_file, 'wb') as f_out:\n",
        "                shutil.copyfileobj(f_in, f_out)\n",
        "        # Elimina el archivo comprimido para ahorrar espacio\n",
        "        os.remove(fasttext_gz)\n",
        "        print(\"FastText listo.\")\n",
        "    else:\n",
        "        print(\"Archivo FastText ya existe.\")"
      ],
      "metadata": {
        "id": "moPgw2L4T18W"
      },
      "execution_count": 4,
      "outputs": []
    },
    {
      "cell_type": "markdown",
      "source": [
        "### **2. Carga y limpieza de datos**\n",
        "\n",
        "Estas funciones se encargan de cargar el conjunto de datos desde una URL, seleccionar las columnas relevantes, filtrar las clases positivas y negativas, y limpiar el texto para preparar los datos para el entrenamiento del modelo. La limpieza incluye convertir el texto a minúsculas, eliminar URLs, menciones, hashtags y caracteres no alfabéticos, y normalizar espacios en blanco."
      ],
      "metadata": {
        "id": "9Q5QuMNerICK"
      }
    },
    {
      "cell_type": "code",
      "source": [
        "# 2. Cargar y limpiar datos\n",
        "\n",
        "def load_data(url):\n",
        "    # Carga el archivo CSV desde la URL y selecciona solo las columnas 'text' y 'polarity'\n",
        "    df = pd.read_csv(url)[['text', 'polarity']].dropna()\n",
        "    # Filtra solo las filas donde la polaridad sea 'P' (positiva) o 'N' (negativa)\n",
        "    df = df[df.polarity.isin(['P', 'N'])].reset_index(drop=True)\n",
        "    # Crea una nueva columna 'label' donde 'P' se mapea a 1 y 'N' a 0 para clasificación binaria\n",
        "    df['label'] = df.polarity.map({'P': 1, 'N': 0})\n",
        "    return df\n",
        "\n",
        "def clean_text(s):\n",
        "    # Convierte el texto a minúsculas para uniformidad\n",
        "    s = s.lower()\n",
        "    # Elimina URLs, menciones (@usuario) y hashtags (#tema) usando expresiones regulares\n",
        "    s = re.sub(r\"http\\S+|www\\S+|@\\w+|#\\w+\", \"\", s)\n",
        "    # Elimina caracteres que no sean letras (incluye letras con acentos y ñ) ni espacios\n",
        "    s = re.sub(r\"[^a-záéíóúñü\\s]\", \"\", s)\n",
        "    # Reemplaza múltiples espacios por uno solo y elimina espacios al inicio y final\n",
        "    return re.sub(r\"\\s+\", \" \", s).strip()"
      ],
      "metadata": {
        "id": "zgPoWx-oT5B-"
      },
      "execution_count": 5,
      "outputs": []
    },
    {
      "cell_type": "markdown",
      "source": [
        "### **3. Función para graficar la historia de entrenamiento**\n",
        "\n",
        "Esta función recibe el objeto `history` que contiene el registro de métricas durante el entrenamiento del modelo y genera dos gráficos: uno para la precisión (accuracy) y otro para la pérdida (loss), tanto para los datos de entrenamiento como para los de validación. Estas visualizaciones son útiles para analizar el comportamiento del modelo a lo largo de las épocas y detectar problemas como sobreajuste o subajuste."
      ],
      "metadata": {
        "id": "n_fZS569rg2z"
      }
    },
    {
      "cell_type": "code",
      "source": [
        "# 3. Graficar historia\n",
        "\n",
        "def plot_history(history):\n",
        "    # Crea una figura con tamaño ancho 12 y alto 5 pulgadas\n",
        "    plt.figure(figsize=(12, 5))\n",
        "\n",
        "    # Primer subplot: precisión durante entrenamiento y validación\n",
        "    plt.subplot(1, 2, 1)\n",
        "    plt.plot(history.history['accuracy'], label='Entrenamiento')  # Precisión en entrenamiento\n",
        "    plt.plot(history.history['val_accuracy'], label='Validación')  # Precisión en validación\n",
        "    plt.title('Precisión')  # Título del gráfico\n",
        "    plt.xlabel('Épocas')  # Etiqueta eje X\n",
        "    plt.ylabel('Precisión')  # Etiqueta eje Y\n",
        "    plt.legend()  # Muestra leyenda para identificar las curvas\n",
        "\n",
        "    # Segundo subplot: pérdida durante entrenamiento y validación\n",
        "    plt.subplot(1, 2, 2)\n",
        "    plt.plot(history.history['loss'], label='Entrenamiento')  # Pérdida en entrenamiento\n",
        "    plt.plot(history.history['val_loss'], label='Validación')  # Pérdida en validación\n",
        "    plt.title('Pérdida')  # Título del gráfico\n",
        "    plt.xlabel('Épocas')  # Etiqueta eje X\n",
        "    plt.ylabel('Pérdida')  # Etiqueta eje Y\n",
        "    plt.legend()  # Muestra leyenda para identificar las curvas\n",
        "\n",
        "    # Ajusta el layout para que no se sobrepongan los elementos\n",
        "    plt.tight_layout()\n",
        "    # Muestra la figura con los gráficos\n",
        "    plt.show()"
      ],
      "metadata": {
        "id": "EHtYesLXT8EO"
      },
      "execution_count": 6,
      "outputs": []
    },
    {
      "cell_type": "markdown",
      "source": [
        "### **4. Predicciones personalizadas con umbral ajustable**\n",
        "\n",
        "Esta función permite realizar predicciones de sentimiento sobre una lista de frases personalizadas. Primero limpia y tokeniza las frases, luego las convierte en secuencias numéricas y las ajusta a una longitud fija. El modelo predice la probabilidad de que cada frase sea positiva, y se clasifica como \"Positiva\" o \"Negativa\" según un umbral ajustable (por defecto 0.55). Esto permite controlar la sensibilidad del modelo para diferentes aplicaciones."
      ],
      "metadata": {
        "id": "tmFts5nmrxPu"
      }
    },
    {
      "cell_type": "code",
      "source": [
        "# 4. Predicciones personalizadas con umbral ajustable\n",
        "\n",
        "def predict_phrases(phrases, model, tokenizer, maxlen, threshold=0.55):\n",
        "    # Limpia cada frase usando la función clean_text para normalizar el texto\n",
        "    cleaned = [clean_text(p) for p in phrases]\n",
        "    # Convierte las frases limpias en secuencias de enteros según el tokenizer entrenado\n",
        "    seqs = tokenizer.texts_to_sequences(cleaned)\n",
        "    print(\"Secuencias tokenizadas de las frases de prueba:\", seqs)  # Imprime las secuencias para depuración\n",
        "    # Ajusta las secuencias a una longitud fija maxlen, rellenando con ceros al final si es necesario\n",
        "    padded = pad_sequences(seqs, maxlen=maxlen, padding='post')\n",
        "    # Obtiene las predicciones del modelo para las secuencias procesadas\n",
        "    preds = model.predict(padded)\n",
        "    # Itera sobre las frases originales y sus predicciones correspondientes\n",
        "    for p, pr in zip(phrases, preds.flatten()):\n",
        "        # Clasifica la frase como 'Positiva' si la probabilidad supera el umbral, sino 'Negativa'\n",
        "        resultado = \"Positiva\" if pr > threshold else \"Negativa\"\n",
        "        # Imprime la frase original junto con su clasificación y la probabilidad predicha\n",
        "        print(f\"\\n\\\"{p}\\\" → {resultado} ({pr:.2f})\")"
      ],
      "metadata": {
        "id": "E_1Acj2lUA_5"
      },
      "execution_count": 7,
      "outputs": []
    },
    {
      "cell_type": "markdown",
      "source": [
        "### **5. Carga de embeddings FastText preentrenados**\n",
        "\n",
        "Esta función carga los vectores de palabras preentrenados de FastText desde un archivo y crea una matriz de embeddings que se utilizará en la capa de embedding del modelo. La matriz asigna a cada palabra del vocabulario su vector correspondiente si está disponible, o un vector cero en caso contrario. Esto permite que el modelo aproveche representaciones semánticas ricas y preentrenadas para mejorar el aprendizaje."
      ],
      "metadata": {
        "id": "iVmHn74rsG_o"
      }
    },
    {
      "cell_type": "code",
      "source": [
        "# 5. Cargar embeddings FastText preentrenados\n",
        "\n",
        "def load_fasttext_embeddings(fasttext_file_path, embedding_dim, word_index, max_words):\n",
        "    embeddings_index = {}  # Diccionario para almacenar palabra: vector\n",
        "    # Abre el archivo de embeddings con codificación utf8 y manejo de errores\n",
        "    with open(fasttext_file_path, encoding='utf8', errors='ignore') as f:\n",
        "        next(f)  # Salta la primera línea que contiene metadatos (número de palabras y dimensiones)\n",
        "        # Itera sobre cada línea del archivo, que contiene una palabra y su vector\n",
        "        for line in f:\n",
        "            values = line.rstrip().split(' ')  # Divide la línea en palabra y valores numéricos\n",
        "            word = values[0]  # La primera parte es la palabra\n",
        "            vector = np.asarray(values[1:], dtype='float32')  # El resto es el vector de la palabra\n",
        "            embeddings_index[word] = vector  # Guarda en el diccionario\n",
        "    print(f\"Cargados {len(embeddings_index)} vectores de palabras de FastText.\")\n",
        "\n",
        "    # Inicializa la matriz de embeddings con ceros, tamaño (max_words, embedding_dim)\n",
        "    embedding_matrix = np.zeros((max_words, embedding_dim))\n",
        "    # Para cada palabra y su índice en el vocabulario\n",
        "    for word, i in word_index.items():\n",
        "        if i >= max_words:\n",
        "            continue  # Ignora palabras fuera del límite max_words\n",
        "        embedding_vector = embeddings_index.get(word)  # Obtiene el vector de la palabra\n",
        "        if embedding_vector is not None:\n",
        "            embedding_matrix[i] = embedding_vector  # Asigna el vector a la matriz\n",
        "    return embedding_matrix  # Retorna la matriz lista para usar en el modelo"
      ],
      "metadata": {
        "id": "ci4dU32IUDq-"
      },
      "execution_count": 8,
      "outputs": []
    },
    {
      "cell_type": "markdown",
      "source": [
        "### **6. Construcción del modelo con Keras Tuner y embeddings FastText**\n",
        "\n",
        "Esta función define la arquitectura del modelo de red neuronal utilizando Keras y permite la optimización automática de hiperparámetros mediante Keras Tuner. El modelo utiliza embeddings preentrenados FastText, una capa bidireccional LSTM con opciones configurables, y capas densas con regularización y dropout para evitar sobreajuste. Además, permite elegir el optimizador y la tasa de aprendizaje. La función retorna un modelo compilado listo para entrenar."
      ],
      "metadata": {
        "id": "iNSM9xeJsfyZ"
      }
    },
    {
      "cell_type": "code",
      "source": [
        "# 6. Modelo para Keras Tuner con embeddings preentrenados FastText\n",
        "\n",
        "def build_model(hp: HyperParameters, max_words, embedding_dim, maxlen, embedding_matrix) -> Sequential:\n",
        "    model = Sequential()  # Inicializa un modelo secuencial de Keras\n",
        "\n",
        "    # Capa de embedding con pesos preentrenados y opción de ser entrenable o no\n",
        "    model.add(layers.Embedding(\n",
        "        input_dim=max_words,  # Tamaño del vocabulario\n",
        "        output_dim=embedding_dim,  # Dimensión de los vectores de embedding\n",
        "        input_length=maxlen,  # Longitud máxima de las secuencias de entrada\n",
        "        weights=[embedding_matrix],  # Matriz de embeddings preentrenados\n",
        "        trainable=hp.Boolean(\"trainable_embedding\", default=True)  # Hiperparámetro para permitir entrenamiento de embeddings\n",
        "    ))\n",
        "\n",
        "    model.add(layers.BatchNormalization())  # Normaliza la activación para acelerar y estabilizar el entrenamiento\n",
        "    model.add(layers.Dropout(hp.Float(\"drop_rate_1\", 0.3, 0.7, step=0.1)))  # Dropout para evitar sobreajuste, tasa ajustable\n",
        "\n",
        "    # Hiperparámetro para decidir si la LSTM devuelve secuencias completas o solo la última salida\n",
        "    return_seq = hp.Boolean(\"return_sequences\", default=False)\n",
        "    model.add(layers.Bidirectional(layers.LSTM(\n",
        "        units=hp.Int(\"rnn_units_1\", min_value=64, max_value=256, step=64),  # Número de unidades LSTM ajustable\n",
        "        return_sequences=return_seq,  # Devuelve secuencia completa o no\n",
        "        recurrent_dropout=hp.Float(\"recurrent_dropout\", 0.0, 0.3, step=0.1),  # Dropout recurrente ajustable\n",
        "        kernel_regularizer=regularizers.l2(0.01)  # Regularización L2 para evitar sobreajuste\n",
        "    )))\n",
        "\n",
        "    # Si se devuelve secuencia completa, se aplica pooling para reducir dimensionalidad\n",
        "    if return_seq:\n",
        "        model.add(layers.GlobalMaxPooling1D())\n",
        "\n",
        "    # Opción para agregar una capa densa adicional con activación ReLU y regularización\n",
        "    if hp.Boolean(\"use_dense_layer\", default=True):\n",
        "        model.add(layers.Dense(\n",
        "            units=hp.Int(\"dense_units\", min_value=32, max_value=128, step=32),  # Número de unidades ajustable\n",
        "            activation=\"relu\",\n",
        "            kernel_regularizer=regularizers.l2(0.01)  # Regularización L2\n",
        "        ))\n",
        "        model.add(layers.Dropout(hp.Float(\"drop_rate_2\", 0.3, 0.7, step=0.1)))  # Dropout adicional\n",
        "\n",
        "    # Capa de salida con activación sigmoide para clasificación binaria\n",
        "    model.add(layers.Dense(1, activation=\"sigmoid\"))\n",
        "\n",
        "    # Selección del optimizador y tasa de aprendizaje mediante hiperparámetros\n",
        "    optimizer_choice = hp.Choice(\"optimizer\", [\"adam\", \"rmsprop\", \"sgd\"], default=\"adam\")\n",
        "    learning_rate = hp.Float(\"learning_rate\", 1e-4, 1e-2, sampling=\"log\")\n",
        "\n",
        "    if optimizer_choice == \"adam\":\n",
        "        optimizer = tf.keras.optimizers.Adam(learning_rate=learning_rate)\n",
        "    elif optimizer_choice == \"rmsprop\":\n",
        "        optimizer = tf.keras.optimizers.RMSprop(learning_rate=learning_rate)\n",
        "    else:\n",
        "        optimizer = tf.keras.optimizers.SGD(learning_rate=learning_rate, momentum=0.9)\n",
        "\n",
        "    # Compila el modelo con función de pérdida, optimizador y métricas de evaluación\n",
        "    model.compile(\n",
        "        loss=\"binary_crossentropy\",  # Pérdida para clasificación binaria\n",
        "        optimizer=optimizer,\n",
        "        metrics=[\"accuracy\", tf.keras.metrics.Precision(), tf.keras.metrics.Recall()]  # Métricas para evaluar desempeño\n",
        "    )\n",
        "    return model  # Retorna el modelo compilado listo para entrenar"
      ],
      "metadata": {
        "id": "wddhR2ZAUImv"
      },
      "execution_count": 9,
      "outputs": []
    },
    {
      "cell_type": "markdown",
      "source": [
        "### **7. Configuración y ejecución principal del entrenamiento con Keras Tuner**\n",
        "\n",
        "Este bloque contiene la configuración principal del proyecto, incluyendo la descarga y preparación de datos, tokenización, balanceo de clases, división de datos, carga de embeddings FastText, configuración del tuner para búsqueda de hiperparámetros, definición de callbacks para control del entrenamiento, búsqueda de los mejores hiperparámetros y entrenamiento final del mejor modelo encontrado."
      ],
      "metadata": {
        "id": "MF4FKcZBs--w"
      }
    },
    {
      "cell_type": "code",
      "source": [
        "# 7. # Función para construir el modelo con Keras Tuner usando parámetros fijos\n",
        "\n",
        "# Función para construir el modelo con Keras Tuner usando parámetros fijos\n",
        "def tuner_build_model(hp):\n",
        "    return build_model(hp, max_words, embedding_dim, maxlen, embedding_matrix)\n",
        "\n",
        "# --- EJECUCIÓN PRINCIPAL ---\n",
        "\n",
        "# URL del dataset\n",
        "url = \"https://zenodo.org/records/10821485/files/ia_tweets.csv\"\n",
        "maxlen = 50  # Longitud máxima de las secuencias\n",
        "embedding_dim = 300  # Dimensión de los embeddings FastText\n",
        "\n",
        "# Fijar semillas para reproducibilidad\n",
        "np.random.seed(42)\n",
        "tf.random.set_seed(42)\n",
        "\n",
        "# Descargar y preparar embeddings FastText\n",
        "download_and_extract_fasttext()\n",
        "fasttext_path = 'cc.es.300.vec'\n",
        "\n",
        "# Cargar y limpiar datos\n",
        "df = load_data(url)\n",
        "df['clean'] = df.text.apply(clean_text)  # Limpieza de texto\n",
        "\n",
        "# Tokenización del texto limpio\n",
        "tokenizer = Tokenizer(oov_token=\"<OOV>\")  # Tokenizador con token para palabras fuera del vocabulario\n",
        "tokenizer.fit_on_texts(df.clean)  # Ajusta el tokenizador al texto\n",
        "sequences = tokenizer.texts_to_sequences(df.clean)  # Convierte texto a secuencias numéricas\n",
        "padded = pad_sequences(sequences, maxlen=maxlen, padding='post')  # Padding para igualar longitud\n",
        "labels = df.label.values  # Etiquetas binarias\n",
        "\n",
        "max_words = len(tokenizer.word_index) + 1  # Tamaño del vocabulario\n",
        "\n",
        "# Calcular pesos para balancear clases desbalanceadas\n",
        "class_weights = class_weight.compute_class_weight('balanced', classes=np.unique(labels), y=labels)\n",
        "class_weights_dict = dict(enumerate(class_weights))  # Diccionario para pasar a fit()\n",
        "\n",
        "# División de datos en entrenamiento, validación y prueba con estratificación\n",
        "x_train, x_tmp, y_train, y_tmp = train_test_split(padded, labels, test_size=0.3, stratify=labels, random_state=42)\n",
        "x_val, x_test, y_val, y_test = train_test_split(x_tmp, y_tmp, test_size=0.33, stratify=y_tmp, random_state=42)\n",
        "\n",
        "# Cargar matriz de embeddings FastText para el vocabulario\n",
        "embedding_matrix = load_fasttext_embeddings(fasttext_path, embedding_dim, tokenizer.word_index, max_words)\n",
        "\n",
        "# Eliminar carpeta de tuner previa si existe para evitar conflictos\n",
        "if os.path.exists(\"opt_lstm\"):\n",
        "    import shutil\n",
        "    shutil.rmtree(\"opt_lstm\")\n",
        "\n",
        "# Configurar el tuner Hyperband para búsqueda de hiperparámetros\n",
        "tuner = kt.Hyperband(\n",
        "    tuner_build_model,\n",
        "    objective=\"val_accuracy\",  # Métrica a optimizar\n",
        "    max_epochs=10,  # Máximo número de épocas por trial\n",
        "    factor=3,  # Factor de reducción de trials\n",
        "    directory=\"opt_lstm\",  # Carpeta para guardar resultados\n",
        "    project_name=\"sentiment_analysis_lstm\"\n",
        ")\n",
        "\n",
        "# Definir callbacks para control del entrenamiento\n",
        "checkpoint = callbacks.ModelCheckpoint(\n",
        "    \"best_model.keras\", save_best_only=True, monitor=\"val_loss\"  # Guarda el mejor modelo según val_loss\n",
        ")\n",
        "stop_early = callbacks.EarlyStopping(\n",
        "    monitor=\"val_loss\", patience=2, restore_best_weights=True  # Detiene si no mejora val_loss en 2 épocas\n",
        ")\n",
        "\n",
        "# Ejecutar búsqueda de mejores hiperparámetros con tuner\n",
        "tuner.search(\n",
        "    x_train,\n",
        "    y_train,\n",
        "    epochs=10,\n",
        "    batch_size=32,\n",
        "    validation_data=(x_val, y_val),\n",
        "    callbacks=[stop_early],\n",
        "    class_weight=class_weights_dict,  # Aplica pesos para balancear clases\n",
        ")\n",
        "\n",
        "# Obtener el mejor modelo encontrado\n",
        "best_model = tuner.get_best_models(num_models=1)[0]\n",
        "\n",
        "# Entrenar el mejor modelo con más épocas y callbacks para checkpoint y early stopping\n",
        "history = best_model.fit(\n",
        "    x_train,\n",
        "    y_train,\n",
        "    epochs=15,\n",
        "    batch_size=32,\n",
        "    validation_data=(x_val, y_val),\n",
        "    callbacks=[stop_early, checkpoint],  # Incluye checkpoint para guardar el mejor modelo\n",
        "    class_weight=class_weights_dict,\n",
        "    verbose=1,\n",
        ")"
      ],
      "metadata": {
        "id": "_LnRlbQZUw3P",
        "colab": {
          "base_uri": "https://localhost:8080/",
          "height": 0
        },
        "outputId": "3605452b-d8c6-4417-f4ec-14838cab366b"
      },
      "execution_count": 11,
      "outputs": [
        {
          "output_type": "stream",
          "name": "stdout",
          "text": [
            "Trial 30 Complete [00h 06m 49s]\n",
            "val_accuracy: 0.7416974306106567\n",
            "\n",
            "Best val_accuracy So Far: 0.8376383781433105\n",
            "Total elapsed time: 00h 50m 14s\n",
            "Epoch 1/15\n",
            "\u001b[1m30/30\u001b[0m \u001b[32m━━━━━━━━━━━━━━━━━━━━\u001b[0m\u001b[37m\u001b[0m \u001b[1m30s\u001b[0m 745ms/step - accuracy: 0.9002 - loss: 0.4284 - precision: 0.9326 - recall: 0.8803 - val_accuracy: 0.7638 - val_loss: 0.5918 - val_precision: 0.7292 - val_recall: 0.9211\n",
            "Epoch 2/15\n",
            "\u001b[1m30/30\u001b[0m \u001b[32m━━━━━━━━━━━━━━━━━━━━\u001b[0m\u001b[37m\u001b[0m \u001b[1m42s\u001b[0m 783ms/step - accuracy: 0.9653 - loss: 0.2296 - precision: 0.9857 - recall: 0.9514 - val_accuracy: 0.8192 - val_loss: 0.5249 - val_precision: 0.8503 - val_recall: 0.8224\n",
            "Epoch 3/15\n",
            "\u001b[1m30/30\u001b[0m \u001b[32m━━━━━━━━━━━━━━━━━━━━\u001b[0m\u001b[37m\u001b[0m \u001b[1m38s\u001b[0m 698ms/step - accuracy: 0.9838 - loss: 0.1580 - precision: 0.9938 - recall: 0.9770 - val_accuracy: 0.6089 - val_loss: 0.8702 - val_precision: 0.5935 - val_recall: 0.9605\n",
            "Epoch 4/15\n",
            "\u001b[1m30/30\u001b[0m \u001b[32m━━━━━━━━━━━━━━━━━━━━\u001b[0m\u001b[37m\u001b[0m \u001b[1m42s\u001b[0m 727ms/step - accuracy: 0.9540 - loss: 0.2212 - precision: 0.9670 - recall: 0.9472 - val_accuracy: 0.8155 - val_loss: 0.4896 - val_precision: 0.8036 - val_recall: 0.8882\n",
            "Epoch 5/15\n",
            "\u001b[1m30/30\u001b[0m \u001b[32m━━━━━━━━━━━━━━━━━━━━\u001b[0m\u001b[37m\u001b[0m \u001b[1m40s\u001b[0m 709ms/step - accuracy: 0.9900 - loss: 0.1054 - precision: 0.9982 - recall: 0.9836 - val_accuracy: 0.8155 - val_loss: 0.4432 - val_precision: 0.8148 - val_recall: 0.8684\n",
            "Epoch 6/15\n",
            "\u001b[1m30/30\u001b[0m \u001b[32m━━━━━━━━━━━━━━━━━━━━\u001b[0m\u001b[37m\u001b[0m \u001b[1m41s\u001b[0m 696ms/step - accuracy: 0.9263 - loss: 0.3367 - precision: 0.9433 - recall: 0.9220 - val_accuracy: 0.8266 - val_loss: 0.4528 - val_precision: 0.8261 - val_recall: 0.8750\n",
            "Epoch 7/15\n",
            "\u001b[1m30/30\u001b[0m \u001b[32m━━━━━━━━━━━━━━━━━━━━\u001b[0m\u001b[37m\u001b[0m \u001b[1m43s\u001b[0m 758ms/step - accuracy: 0.9930 - loss: 0.0838 - precision: 0.9912 - recall: 0.9961 - val_accuracy: 0.8561 - val_loss: 0.4621 - val_precision: 0.8844 - val_recall: 0.8553\n"
          ]
        }
      ]
    },
    {
      "cell_type": "markdown",
      "source": [
        "### **Resultados del Entrenamiento con Keras Tuner**\n",
        "\n",
        "El proceso de optimización de hiperparámetros con Keras Tuner se llevó a cabo mediante el algoritmo Hyperband, explorando diferentes configuraciones de la arquitectura LSTM y sus parámetros más relevantes.\n",
        "\n",
        "* **Número de Trials:** Se realizaron 30 trials para explorar el espacio de hiperparámetros.\n",
        "* **Tiempo Total Transcurrido:** El proceso completo de optimización tomó 50 minutos y 14 segundos.\n",
        "* **Mejor Precisión de Validación:** La mejor configuración alcanzó una precisión de validación de 0.8376 (83.76%).\n",
        "\n",
        "**Entrenamiento del Mejor Modelo:**\n",
        "\n",
        "Tras identificar la mejor configuración mediante Keras Tuner, el modelo fue entrenado con los siguientes resultados:\n",
        "\n",
        "* **Número de Épocas:** Aunque se establecieron 15 épocas, el entrenamiento se detuvo anticipadamente en la época 7 debido al callback `EarlyStopping`.\n",
        "* **Precisión en Entrenamiento:** La precisión en el conjunto de entrenamiento alcanzó un valor de 0.9930 en la última época.\n",
        "* **Pérdida en Entrenamiento:** La pérdida en el conjunto de entrenamiento se redujo a 0.0838.\n",
        "* **Precisión en Validación:** La mejor precisión en el conjunto de validación fue de 0.8561 (85.61%) en la época 7.\n",
        "* **Pérdida en Validación:** La menor pérdida de validación fue de 0.4432, registrada en la época 5.\n",
        "\n",
        "**Métricas adicionales:**\n",
        "\n",
        "* **Precisión (Precision) en Validación:** La mayor precisión fue de 0.8844.\n",
        "* **Sensibilidad (Recall) en Validación:** El valor máximo observado fue de 0.9211, destacando una buena capacidad del modelo para identificar correctamente los ejemplos positivos.\n",
        "\n",
        "**Observaciones:**\n",
        "\n",
        "* El entrenamiento se interrumpió automáticamente en la época 7 por `EarlyStopping`, ya que no se observaron mejoras consistentes en la precisión de validación durante las últimas épocas.\n",
        "* La evolución de las métricas indica que el modelo mantuvo un buen equilibrio entre precisión y sensibilidad, lo cual es deseable en tareas de clasificación de texto.\n",
        "* Se observó una ligera inestabilidad en la época 3, pero el modelo logró recuperarse y mejorar su rendimiento general posteriormente."
      ],
      "metadata": {
        "id": "atEWc2Gkx8U1"
      }
    },
    {
      "cell_type": "markdown",
      "source": [
        "### **8. Guardar el historial de entrenamiento**\n",
        "\n",
        "Este bloque guarda el historial del entrenamiento del modelo en un archivo JSON. El historial contiene las métricas y pérdidas registradas en cada época para entrenamiento y validación, lo que permite analizar y reproducir los resultados posteriormente sin necesidad de reentrenar el modelo."
      ],
      "metadata": {
        "id": "_319qmLZtaOL"
      }
    },
    {
      "cell_type": "code",
      "source": [
        "# 8. Guardar historial de entrenamiento\n",
        "\n",
        "# Abre (o crea) un archivo llamado 'history.json' en modo escritura\n",
        "with open(\"history.json\", \"w\") as f:\n",
        "    # Convierte el diccionario history.history a formato JSON y lo escribe en el archivo\n",
        "    json.dump(history.history, f)"
      ],
      "metadata": {
        "id": "Hb9ruwWxUzpT"
      },
      "execution_count": 12,
      "outputs": []
    },
    {
      "cell_type": "markdown",
      "source": [
        "### **9. Evaluación del modelo en el conjunto de prueba**\n",
        "\n",
        "Este bloque evalúa el rendimiento del mejor modelo entrenado utilizando el conjunto de datos de prueba. Se calculan métricas como la pérdida (loss), la precisión (accuracy), la precisión (precision) y la exhaustividad (recall) para medir la capacidad del modelo para generalizar a datos no vistos durante el entrenamiento. Los resultados se imprimen en la consola para su análisis."
      ],
      "metadata": {
        "id": "F-lDxi4HtyAM"
      }
    },
    {
      "cell_type": "code",
      "source": [
        "# 9. Evaluar\n",
        "\n",
        "# Evalúa el modelo en el conjunto de prueba y guarda las métricas\n",
        "loss, accuracy, precision, recall = best_model.evaluate(x_test, y_test)\n",
        "\n",
        "# Imprime los resultados de la evaluación en la consola\n",
        "print(f\"\\n✅ Pérdida en test: {loss:.4f}\")  # Imprime la pérdida con 4 decimales\n",
        "print(f\"Precisión en test: {accuracy:.4f}\")  # Imprime la precisión con 4 decimales\n",
        "print(f\"Precision: {precision:.4f}\")  # Imprime la precisión con 4 decimales\n",
        "print(f\"Recall: {recall:.4f}\")  # Imprime la exhaustividad con 4 decimales"
      ],
      "metadata": {
        "id": "dATk0DXCU4dU",
        "colab": {
          "base_uri": "https://localhost:8080/",
          "height": 0
        },
        "outputId": "9977b515-5d0d-47e0-9e75-ca66875406e6"
      },
      "execution_count": 13,
      "outputs": [
        {
          "output_type": "stream",
          "name": "stdout",
          "text": [
            "\u001b[1m5/5\u001b[0m \u001b[32m━━━━━━━━━━━━━━━━━━━━\u001b[0m\u001b[37m\u001b[0m \u001b[1m2s\u001b[0m 252ms/step - accuracy: 0.8283 - loss: 0.4113 - precision: 0.8477 - recall: 0.8583\n",
            "\n",
            "✅ Pérdida en test: 0.4123\n",
            "Precisión en test: 0.8209\n",
            "Precision: 0.8312\n",
            "Recall: 0.8533\n"
          ]
        }
      ]
    },
    {
      "cell_type": "markdown",
      "source": [
        "### **Resultados de la Evaluación del Modelo en el Conjunto de Prueba**\n",
        "\n",
        "Después del proceso de entrenamiento y optimización de hiperparámetros, se evaluó el modelo en el conjunto de prueba para medir su capacidad de generalización sobre datos no vistos. Los resultados fueron los siguientes:\n",
        "\n",
        "* **Pérdida (Loss):** 0.4123\n",
        "* **Precisión (Accuracy):** 0.8209 (82.09%)\n",
        "* **Precisión (Precision):** 0.8312 (83.12%)\n",
        "* **Recall (Exhaustividad):** 0.8533 (85.33%)\n",
        "\n",
        "**Análisis:**\n",
        "\n",
        "* La precisión general del 82.09% indica que el modelo realiza predicciones correctas en la mayoría de los casos del conjunto de prueba.\n",
        "* La precisión de 83.12% sugiere que el modelo comete pocos falsos positivos, clasificando adecuadamente los casos negativos.\n",
        "* El recall del 85.33% muestra una buena capacidad para identificar correctamente los casos positivos, superando el rendimiento obtenido en iteraciones anteriores.\n",
        "* La pérdida de 0.4123 representa una mejora significativa con respecto a evaluaciones previas (1.0452), lo que indica un modelo más preciso y con menor margen de error en las predicciones."
      ],
      "metadata": {
        "id": "-pVypSIozmM1"
      }
    },
    {
      "cell_type": "markdown",
      "source": [
        "### **10. Ajuste del umbral de predicción y generación del informe de clasificación**\n",
        "\n",
        "Este bloque ajusta el umbral de decisión para clasificar las predicciones del modelo como positivas o negativas. En lugar del umbral estándar 0.5, se usa 0.55 para controlar el balance entre precisión y recall. Luego, se genera un informe de clasificación que muestra métricas detalladas como precisión, recall y F1-score para cada clase, facilitando un análisis más completo del desempeño del modelo."
      ],
      "metadata": {
        "id": "XSpo398AuG5D"
      }
    },
    {
      "cell_type": "code",
      "source": [
        "# 10. Ajustar el umbral de predicción\n",
        "\n",
        "threshold = 0.55  # Umbral para clasificar predicciones como positivas o negativas\n",
        "\n",
        "# Obtiene las predicciones del modelo y las convierte a etiquetas binarias según el umbral\n",
        "y_pred = (best_model.predict(x_test) > threshold).astype(\"int32\")\n",
        "\n",
        "# Imprime el informe de clasificación con métricas detalladas\n",
        "print(\"\\n📊 Informe de clasificación:\")\n",
        "report = classification_report(y_test, y_pred, digits=4)  # Reporte con 4 decimales\n",
        "print(report)"
      ],
      "metadata": {
        "id": "lOFI-RuaU9Jw",
        "colab": {
          "base_uri": "https://localhost:8080/",
          "height": 0
        },
        "outputId": "195104e7-80cb-43cb-ebf8-918ae8defc43"
      },
      "execution_count": 14,
      "outputs": [
        {
          "output_type": "stream",
          "name": "stdout",
          "text": [
            "\u001b[1m5/5\u001b[0m \u001b[32m━━━━━━━━━━━━━━━━━━━━\u001b[0m\u001b[37m\u001b[0m \u001b[1m2s\u001b[0m 386ms/step\n",
            "\n",
            "📊 Informe de clasificación:\n",
            "              precision    recall  f1-score   support\n",
            "\n",
            "           0     0.8103    0.7966    0.8034        59\n",
            "           1     0.8421    0.8533    0.8477        75\n",
            "\n",
            "    accuracy                         0.8284       134\n",
            "   macro avg     0.8262    0.8250    0.8256       134\n",
            "weighted avg     0.8281    0.8284    0.8282       134\n",
            "\n"
          ]
        }
      ]
    },
    {
      "cell_type": "markdown",
      "source": [
        "### **Informe de Clasificación Detallado**\n",
        "\n",
        "Para analizar con mayor detalle el rendimiento del modelo, se generó un informe de clasificación que desglosa las métricas para cada clase (0 y 1). Los resultados obtenidos son los siguientes:\n",
        "\n",
        "| Clase | Precision | Recall | F1-Score | Support |\n",
        "| ----- | --------- | ------ | -------- | ------- |\n",
        "| 0     | 0.8103    | 0.7966 | 0.8034   | 59      |\n",
        "| 1     | 0.8421    | 0.8533 | 0.8477   | 75      |\n",
        "\n",
        "**Métricas Globales:**\n",
        "\n",
        "* **Accuracy:** 0.8284 (82.84%)\n",
        "* **Macro Avg Precision:** 0.8262\n",
        "* **Macro Avg Recall:** 0.8250\n",
        "* **Macro Avg F1-Score:** 0.8256\n",
        "* **Weighted Avg Precision:** 0.8281\n",
        "* **Weighted Avg Recall:** 0.8284\n",
        "* **Weighted Avg F1-Score:** 0.8282\n",
        "\n",
        "**Análisis:**\n",
        "\n",
        "* **Clase 0 (Negativa):** El modelo muestra un buen equilibrio entre precisión (81.03%) y recall (79.66%), lo que indica una correcta identificación de ejemplos negativos con una tasa moderada de falsos positivos y falsos negativos.\n",
        "* **Clase 1 (Positiva):** Presenta un rendimiento destacado, con una precisión de 84.21% y un recall de 85.33%, lo que refleja una alta capacidad para identificar correctamente los ejemplos positivos y una baja tasa de errores.\n",
        "* **Balance general:** El F1-score es ligeramente superior para la clase positiva (0.8477), pero en general el modelo muestra un rendimiento equilibrado entre ambas clases.\n",
        "* **Accuracy:** La precisión global del modelo (82.84%) confirma una mejora respecto a evaluaciones anteriores, reflejando una mayor capacidad de generalización."
      ],
      "metadata": {
        "id": "j-w34uUUz_B4"
      }
    },
    {
      "cell_type": "markdown",
      "source": [
        "### **11. Guardar el informe de clasificación en un archivo de texto**\n",
        "\n",
        "Este bloque guarda el informe de clasificación generado en un archivo de texto llamado `classification_report.txt`. Esto permite conservar un registro permanente del desempeño del modelo para futuras referencias o para incluirlo en reportes y documentación."
      ],
      "metadata": {
        "id": "t79KnebrucvC"
      }
    },
    {
      "cell_type": "code",
      "source": [
        "# 11. Guardar el informe de clasificación en un archivo\n",
        "\n",
        "# Abre (o crea) un archivo llamado 'classification_report.txt' en modo escritura\n",
        "with open(\"classification_report.txt\", \"w\") as f:\n",
        "    # Escribe el contenido del informe de clasificación en el archivo\n",
        "    f.write(report)"
      ],
      "metadata": {
        "id": "MMGYZTD_VDvE"
      },
      "execution_count": 15,
      "outputs": []
    },
    {
      "cell_type": "markdown",
      "source": [
        "### **12. Imprimir la matriz de confusión**\n",
        "\n",
        "Este bloque calcula la matriz de confusión, que muestra el número de clasificaciones correctas e incorrectas para cada clase. La matriz de confusión es una herramienta fundamental para entender cómo el modelo está clasificando los datos y para identificar posibles errores o sesgos."
      ],
      "metadata": {
        "id": "TmTZbU08uwwv"
      }
    },
    {
      "cell_type": "code",
      "source": [
        "# 12. Imprimir la matriz de confusión\n",
        "\n",
        "# Calcula la matriz de confusión comparando las etiquetas reales y las predichas\n",
        "cm = confusion_matrix(y_test, y_pred)\n",
        "\n",
        "# Imprime la matriz de confusión en la consola\n",
        "print(\"\\nMatriz de confusión:\")\n",
        "print(cm)"
      ],
      "metadata": {
        "id": "tqEzuVXwVH37",
        "colab": {
          "base_uri": "https://localhost:8080/",
          "height": 0
        },
        "outputId": "d01e66ac-6cf4-4877-de3c-dc96c924d9b9"
      },
      "execution_count": 16,
      "outputs": [
        {
          "output_type": "stream",
          "name": "stdout",
          "text": [
            "\n",
            "Matriz de confusión:\n",
            "[[47 12]\n",
            " [11 64]]\n"
          ]
        }
      ]
    },
    {
      "cell_type": "markdown",
      "source": [
        "### **Análisis de la Matriz de Confusión**\n",
        "\n",
        "La matriz de confusión proporciona una visión detallada del desempeño del modelo en el conjunto de prueba, permitiendo identificar cuántas predicciones fueron correctas o incorrectas para cada clase.\n",
        "\n",
        "```\n",
        "[[47 12]\n",
        " [11 64]]\n",
        "```\n",
        "\n",
        "**Interpretación:**\n",
        "\n",
        "* **Verdaderos Negativos (TN):** 47 ejemplos negativos fueron clasificados correctamente como negativos.\n",
        "* **Falsos Positivos (FP):** 12 ejemplos negativos fueron clasificados incorrectamente como positivos.\n",
        "* **Falsos Negativos (FN):** 11 ejemplos positivos fueron clasificados incorrectamente como negativos.\n",
        "* **Verdaderos Positivos (TP):** 64 ejemplos positivos fueron clasificados correctamente como positivos.\n",
        "\n",
        "**Análisis:**\n",
        "\n",
        "* El modelo presenta un buen rendimiento general, con una clara capacidad para distinguir entre ambas clases.\n",
        "* La cantidad de verdaderos positivos (64) y verdaderos negativos (47) demuestra que el modelo acierta en la mayoría de los casos.\n",
        "* El número de falsos negativos (11) es relativamente bajo, lo que indica que el modelo identifica correctamente la mayoría de los ejemplos positivos, favoreciendo un **alto recall** para esta clase.\n",
        "* Aunque existen algunos falsos positivos (12), su cantidad es moderada y no compromete de manera significativa la precisión del modelo.\n",
        "* En conjunto, estos resultados reflejan un equilibrio sólido entre precisión y recall, con una tendencia favorable hacia la correcta detección de ejemplos positivos."
      ],
      "metadata": {
        "id": "AxwzqOw40UVw"
      }
    },
    {
      "cell_type": "markdown",
      "source": [
        "### **13. Visualización de la matriz de confusión y gráfico de historia de entrenamiento**\n",
        "\n",
        "Este bloque visualiza la matriz de confusión utilizando un mapa de calor con la librería Seaborn, lo que facilita la interpretación visual de los resultados de clasificación. Además, se llama a la función `plot_history` para mostrar la evolución de la precisión y pérdida durante el entrenamiento y validación, ayudando a analizar el comportamiento del modelo."
      ],
      "metadata": {
        "id": "1IyA-MqnvaMn"
      }
    },
    {
      "cell_type": "code",
      "source": [
        "# 13. Visualizar la matriz de confusión con Seaborn\n",
        "\n",
        "# Crea una figura para la matriz de confusión con tamaño 8x6 pulgadas\n",
        "plt.figure(figsize=(8, 6))\n",
        "\n",
        "# Dibuja un mapa de calor con anotaciones numéricas para la matriz de confusión\n",
        "sns.heatmap(cm, annot=True, fmt=\"d\", cmap=\"Blues\")\n",
        "\n",
        "# Etiquetas para los ejes\n",
        "plt.xlabel(\"Predicciones\")\n",
        "plt.ylabel(\"Valores reales\")\n",
        "\n",
        "# Título del gráfico\n",
        "plt.title(\"Matriz de confusión\")\n",
        "\n",
        "# Muestra el gráfico\n",
        "plt.show()\n",
        "\n",
        "# Llama a la función para graficar la historia de entrenamiento y validación\n",
        "plot_history(history)"
      ],
      "metadata": {
        "id": "Cl4f2DXjVMBH",
        "colab": {
          "base_uri": "https://localhost:8080/",
          "height": 1054
        },
        "outputId": "f247ca61-14d3-4b3d-9dfe-c561104c1609"
      },
      "execution_count": 17,
      "outputs": [
        {
          "output_type": "display_data",
          "data": {
            "text/plain": [
              "<Figure size 800x600 with 2 Axes>"
            ],
            "image/png": "[encoded data removed]"
          },
          "metadata": {}
        },
        {
          "output_type": "display_data",
          "data": {
            "text/plain": [
              "<Figure size 1200x500 with 2 Axes>"
            ],
            "image/png": "[encoded data removed]"
          },
          "metadata": {}
        }
      ]
    },
    {
      "cell_type": "markdown",
      "source": [
        "#### **Imagen 1: Matriz de Confusión Visualizada**\n",
        "\n",
        "La matriz muestra los siguientes valores:\n",
        "\n",
        "* **Verdaderos Negativos (TN):** 47\n",
        "* **Falsos Positivos (FP):** 12\n",
        "* **Falsos Negativos (FN):** 11\n",
        "* **Verdaderos Positivos (TP):** 64\n",
        "\n",
        "**Interpretación:**\n",
        "\n",
        "* El modelo clasifica correctamente la mayoría de los ejemplos, tanto negativos como positivos.\n",
        "* Aunque hay un leve incremento en los falsos positivos (12), la cantidad de falsos negativos se reduce considerablemente (de 22 a 11), lo que indica una mejora importante en la capacidad del modelo para identificar correctamente los ejemplos positivos.\n",
        "* Este cambio es valioso en aplicaciones donde identificar correctamente los positivos es crucial.\n",
        "* El modelo tiene un mejor **recall para la clase positiva**, lo que se traduce en una mayor sensibilidad y menor riesgo de pasar por alto casos relevantes.\n",
        "\n",
        "---\n",
        "\n",
        "#### **Imagen 2: Curvas de Precisión y Pérdida durante Entrenamiento**\n",
        "\n",
        "* **Precisión de Entrenamiento:** Se mantiene alta durante todas las épocas, superando constantemente el 94%, y alcanzando incluso el 100% al final, lo cual indica una excelente capacidad de aprendizaje sobre los datos de entrenamiento.\n",
        "* **Precisión de Validación:** Presenta una tendencia general al alza, llegando a alrededor del 85%, lo que representa una mejora respecto a resultados anteriores. Aunque hay pequeñas fluctuaciones, la precisión se mantiene relativamente estable y alta.\n",
        "* **Pérdida de Entrenamiento:** Disminuye de forma consistente, lo cual es una buena señal de aprendizaje progresivo del modelo.\n",
        "* **Pérdida de Validación:** Aunque inicialmente es alta y presenta una subida notable en la época 2, logra estabilizarse en niveles aceptables (cercanos a 0.45), lo que indica que el sobreajuste está más controlado en comparación con iteraciones previas.\n",
        "\n",
        "**Interpretación:**\n",
        "\n",
        "El modelo muestra mejoras significativas en su capacidad de generalización. La reducción de falsos negativos, el aumento del recall, y la estabilización de la pérdida de validación indican que el modelo no solo aprende bien los datos, sino que también está mejorando en la predicción de ejemplos nuevos.\n",
        "\n",
        "---\n",
        "\n",
        "**Recomendaciones:**\n",
        "\n",
        "* **Mantener arquitectura actual:** El rendimiento es notablemente mejor, especialmente en la detección de positivos.\n",
        "* **Ajuste fino de hiperparámetros:** Podrías hacer una búsqueda más precisa (e.g., con `GridSearchCV` si aplicable) para consolidar la mejora sin perder estabilidad.\n",
        "* **Regularización ligera:** Un poco más de dropout o L2 puede ayudar a evitar oscilaciones en validación.\n",
        "* **Validación cruzada:** Para asegurar que el rendimiento no es circunstancial del set de validación actual."
      ],
      "metadata": {
        "id": "knPE-e_F2Yi9"
      }
    },
    {
      "cell_type": "markdown",
      "source": [
        "### **14. Guardar el modelo entrenado y el tokenizer**\n",
        "\n",
        "Este bloque guarda el modelo entrenado en un archivo con extensión `.keras`, listo para ser cargado y utilizado en producción o para futuras predicciones. Además, guarda el objeto `tokenizer` serializado con `pickle`, que es necesario para procesar texto nuevo de la misma forma que durante el entrenamiento, asegurando consistencia en las predicciones."
      ],
      "metadata": {
        "id": "VlbQHEApvuSl"
      }
    },
    {
      "cell_type": "code",
      "source": [
        "# 14. Guardar modelo y tokenizer\n",
        "\n",
        "# Guarda el modelo entrenado en un archivo para uso posterior o producción\n",
        "best_model.save(\"modelo_mejorado_lstm_fasttext.keras\")\n",
        "\n",
        "# Abre un archivo en modo escritura binaria para guardar el tokenizer\n",
        "with open(\"tokenizer.pkl\", \"wb\") as f:\n",
        "    # Serializa y guarda el tokenizer para reutilizarlo en procesamiento de texto\n",
        "    pickle.dump(tokenizer, f)"
      ],
      "metadata": {
        "id": "HG8gAFZeVQbC"
      },
      "execution_count": 21,
      "outputs": []
    },
    {
      "cell_type": "markdown",
      "source": [
        "### **15. Predicciones de prueba con frases personalizadas**\n",
        "\n",
        "Este bloque define una lista de frases de prueba y utiliza la función `predict_phrases` para clasificar el sentimiento de cada frase. Esto permite verificar rápidamente si el modelo está funcionando correctamente y si las predicciones son coherentes con el significado de las frases."
      ],
      "metadata": {
        "id": "MY7kbotlwGuA"
      }
    },
    {
      "cell_type": "code",
      "execution_count": 19,
      "metadata": {
        "id": "FRm6Fhw7r9p1",
        "colab": {
          "base_uri": "https://localhost:8080/",
          "height": 0
        },
        "outputId": "e6c041bd-a03d-4dad-db2a-ad89776e964e"
      },
      "outputs": [
        {
          "output_type": "stream",
          "name": "stdout",
          "text": [
            "Secuencias tokenizadas de las frases de prueba: [[44, 371, 30, 162, 46, 285, 4, 6182], [12, 30, 914, 10, 138, 166, 1], [3, 167, 2191, 88, 33, 28, 89], [90, 6444, 1200, 2, 73]]\n",
            "\u001b[1m1/1\u001b[0m \u001b[32m━━━━━━━━━━━━━━━━━━━━\u001b[0m\u001b[37m\u001b[0m \u001b[1m0s\u001b[0m 251ms/step\n",
            "\n",
            "\"Este modelo me parece muy útil y confiable\" → Positiva (0.98)\n",
            "\n",
            "\"No me gustó para nada, fue decepcionante\" → Negativa (0.53)\n",
            "\n",
            "\"La calidad estuvo bien, pero puede mejorar\" → Positiva (0.94)\n",
            "\n",
            "\"Qué completa pérdida de tiempo\" → Negativa (0.52)\n"
          ]
        }
      ],
      "source": [
        "# 15. Predicciones de prueba\n",
        "test_phrases = [\n",
        "    \"Este modelo me parece muy útil y confiable\",\n",
        "    \"No me gustó para nada, fue decepcionante\",\n",
        "    \"La calidad estuvo bien, pero puede mejorar\",\n",
        "    \"Qué completa pérdida de tiempo\"\n",
        "]\n",
        "predict_phrases(test_phrases, best_model, tokenizer, maxlen, threshold=0.55)"
      ]
    },
    {
      "cell_type": "markdown",
      "source": [
        "### **Resultados de Predicciones Personalizadas**\n",
        "\n",
        "Se evaluaron nuevamente algunas frases representativas para analizar cómo el modelo clasifica sentimientos en textos reales. A continuación se presentan las secuencias tokenizadas utilizadas y las predicciones obtenidas con sus respectivas probabilidades:\n",
        "\n",
        "**Secuencias tokenizadas:**\n",
        "\n",
        "* \"Este modelo me parece muy útil y confiable\" → \\[44, 371, 30, 162, 46, 285, 4, 6182]\n",
        "* \"No me gustó para nada, fue decepcionante\" → \\[12, 30, 914, 10, 138, 166, 1]\n",
        "* \"La calidad estuvo bien, pero puede mejorar\" → \\[3, 167, 2191, 88, 33, 28, 89]\n",
        "* \"Qué completa pérdida de tiempo\" → \\[90, 6444, 1200, 2, 73]\n",
        "\n",
        "**Predicciones:**\n",
        "\n",
        "* \"Este modelo me parece muy útil y confiable\" → Positiva (probabilidad 0.98)\n",
        "* \"No me gustó para nada, fue decepcionante\" → Negativa (probabilidad 0.53)\n",
        "* \"La calidad estuvo bien, pero puede mejorar\" → Positiva (probabilidad 0.94)\n",
        "* \"Qué completa pérdida de tiempo\" → Negativa (probabilidad 0.52)\n",
        "\n",
        "**Interpretación:**\n",
        "\n",
        "* El modelo sigue clasificando adecuadamente los textos positivos, asignando probabilidades cercanas a 1 en frases con connotaciones favorables.\n",
        "* En el caso de las frases negativas, las probabilidades se ubican en torno a 0.5, lo cual indica una menor seguridad del modelo al identificar sentimientos negativos.\n",
        "* Esto sugiere que, aunque el modelo ha mejorado su capacidad de predicción general, todavía tiene espacio para reforzar el reconocimiento de matices negativos, posiblemente debido a un sesgo en los datos de entrenamiento o al equilibrio de clases."
      ],
      "metadata": {
        "id": "iSG46QYr4QHi"
      }
    },
    {
      "cell_type": "markdown",
      "source": [
        "### **16. Función para probar el modelo con un conjunto de frases predefinidas**\n",
        "\n",
        "Este bloque define una lista de frases variadas y utiliza la función `probar_varias_frases` para clasificar el sentimiento de cada una. Esto permite evaluar el rendimiento del modelo en diferentes tipos de expresiones y situaciones, identificando posibles fortalezas y debilidades en su capacidad para generalizar."
      ],
      "metadata": {
        "id": "ehXGlVZDw5Gc"
      }
    },
    {
      "cell_type": "code",
      "execution_count": 22,
      "metadata": {
        "id": "5UOZYhyUIiYy",
        "colab": {
          "base_uri": "https://localhost:8080/",
          "height": 0
        },
        "outputId": "8d6981f1-215e-4764-b73d-c720ffb103cd"
      },
      "outputs": [
        {
          "output_type": "stream",
          "name": "stdout",
          "text": [
            "\u001b[1m1/1\u001b[0m \u001b[32m━━━━━━━━━━━━━━━━━━━━\u001b[0m\u001b[37m\u001b[0m \u001b[1m0s\u001b[0m 400ms/step\n",
            "\n",
            "\"Me encantó el servicio, fue excelente y rápido.\" → Positiva (0.99)\n",
            "\n",
            "\"Estoy muy satisfecho con la calidad del producto.\" → Positiva (0.98)\n",
            "\n",
            "\"¡Qué experiencia tan maravillosa, lo recomiendo mucho!\" → Negativa (0.42)\n",
            "\n",
            "\"El equipo fue muy amable y atento en todo momento.\" → Positiva (0.99)\n",
            "\n",
            "\"No me gustó para nada, fue una decepción total.\" → Negativa (0.10)\n",
            "\n",
            "\"El producto llegó dañado y no funciona bien.\" → Positiva (0.98)\n",
            "\n",
            "\"Muy mala atención, no volveré a comprar aquí.\" → Negativa (0.13)\n",
            "\n",
            "\"Perdí mi tiempo y dinero con esta compra.\" → Positiva (0.98)\n",
            "\n",
            "\"La calidad está bien, pero esperaba algo mejor.\" → Positiva (0.98)\n",
            "\n",
            "\"No está mal, pero podría mejorar en varios aspectos.\" → Negativa (0.21)\n",
            "\n",
            "\"El envío fue rápido, aunque el embalaje no me convenció.\" → Positiva (0.97)\n",
            "\n",
            "\"No sé qué pensar, tiene cosas buenas y malas.\" → Negativa (0.07)\n",
            "\n",
            "\"Después de esperar semanas por mi pedido, finalmente llegó en malas condiciones, con varias piezas rotas y sin funcionar correctamente. Intenté comunicarme con el servicio al cliente, pero no recibí respuesta o soluciones satisfactorias. Esta experiencia ha sido frustrante y decepcionante, y definitivamente no recomendaría esta tienda a nadie.\" → Negativa (0.18)\n"
          ]
        }
      ],
      "source": [
        "# 16. Función para probar el modelo con un conjunto de frases predefinidas\n",
        "\n",
        "# Define una lista de frases variadas para probar el modelo\n",
        "test_phrases_varias = [\n",
        "    \"Me encantó el servicio, fue excelente y rápido.\",\n",
        "    \"Estoy muy satisfecho con la calidad del producto.\",\n",
        "    \"¡Qué experiencia tan maravillosa, lo recomiendo mucho!\",\n",
        "    \"El equipo fue muy amable y atento en todo momento.\",\n",
        "    \"No me gustó para nada, fue una decepción total.\",\n",
        "    \"El producto llegó dañado y no funciona bien.\",\n",
        "    \"Muy mala atención, no volveré a comprar aquí.\",\n",
        "    \"Perdí mi tiempo y dinero con esta compra.\",\n",
        "    \"La calidad está bien, pero esperaba algo mejor.\",\n",
        "    \"No está mal, pero podría mejorar en varios aspectos.\",\n",
        "    \"El envío fue rápido, aunque el embalaje no me convenció.\",\n",
        "    \"No sé qué pensar, tiene cosas buenas y malas.\",\n",
        "    \"Después de esperar semanas por mi pedido, finalmente llegó en malas condiciones, con varias piezas rotas y sin funcionar correctamente. Intenté comunicarme con el servicio al cliente, pero no recibí respuesta o soluciones satisfactorias. Esta experiencia ha sido frustrante y decepcionante, y definitivamente no recomendaría esta tienda a nadie.\"\n",
        "]\n",
        "\n",
        "def probar_varias_frases(modelo, tokenizer, maxlen, frases, threshold=0.55):\n",
        "    # Limpia cada frase usando la función clean_text\n",
        "    cleaned = [clean_text(p) for p in frases]\n",
        "    # Convierte las frases limpias en secuencias de enteros según el tokenizer\n",
        "    seqs = tokenizer.texts_to_sequences(cleaned)\n",
        "    # Ajusta las secuencias a una longitud fija maxlen, rellenando con ceros al final si es necesario\n",
        "    padded = pad_sequences(seqs, maxlen=maxlen, padding='post')\n",
        "    # Obtiene las predicciones del modelo para las secuencias procesadas\n",
        "    preds = modelo.predict(padded)\n",
        "    # Itera sobre las frases originales y sus predicciones correspondientes\n",
        "    for frase, pred in zip(frases, preds.flatten()):\n",
        "        # Clasifica la frase como 'Positiva' si la probabilidad supera el umbral, sino 'Negativa'\n",
        "        etiqueta = \"Positiva\" if pred > threshold else \"Negativa\"\n",
        "        # Imprime la frase original junto con su clasificación y la probabilidad predicha\n",
        "        print(f\"\\n\\\"{frase}\\\" → {etiqueta} ({pred:.2f})\")\n",
        "\n",
        "# Llama a la función con tus frases\n",
        "probar_varias_frases(best_model, tokenizer, maxlen, test_phrases_varias, threshold=0.55)"
      ]
    },
    {
      "cell_type": "markdown",
      "source": [
        "### **Resultados de Predicciones con Frases Variadas**\n",
        "\n",
        "Se evaluó el modelo con un conjunto diverso de frases que expresan opiniones positivas, negativas y neutras, con el objetivo de observar su capacidad de clasificación y sensibilidad ante distintos matices emocionales.\n",
        "\n",
        "**Análisis:**\n",
        "\n",
        "* El modelo demuestra una buena capacidad para identificar correctamente sentimientos positivos, con probabilidades cercanas al 1.0 en la mayoría de los casos que expresan satisfacción o buenos resultados.\n",
        "* No obstante, se evidencian inconsistencias importantes al clasificar frases claramente negativas como positivas. Por ejemplo, “El producto llegó dañado y no funciona bien.” y “Perdí mi tiempo y dinero con esta compra.” son frases con carga negativa que el modelo etiquetó como positivas con alta certeza.\n",
        "* Este comportamiento sugiere que el modelo tiende a sesgarse hacia clasificaciones positivas, lo cual podría estar relacionado con un desbalance en los datos de entrenamiento (más ejemplos positivos que negativos).\n",
        "* También se observa que frases más ambiguas o de tono mixto, como “No sé qué pensar, tiene cosas buenas y malas.” o “¡Qué experiencia tan maravillosa, lo recomiendo mucho!”, no son correctamente interpretadas, revelando dificultades para manejar sutilezas semánticas o ironías.\n",
        "* A pesar de estas limitaciones, el modelo sigue mostrando un desempeño aceptable en la mayoría de los casos, aunque se recomienda un ajuste fino (fine-tuning) o reentrenamiento con un conjunto de datos más equilibrado y diverso."
      ],
      "metadata": {
        "id": "utvBz1CL4pEb"
      }
    },
    {
      "cell_type": "markdown",
      "source": [
        "### **Función interactiva para probar frases personalizadas (OPCIONAL)**\n",
        "\n",
        "Esta función permite al usuario ingresar frases manualmente para que el modelo las clasifique en tiempo real. El usuario puede escribir tantas frases como desee y escribir \"salir\" para terminar. Cada frase se limpia, tokeniza y se ajusta para que el modelo pueda predecir su sentimiento, mostrando la etiqueta y la probabilidad correspondiente."
      ],
      "metadata": {
        "id": "UtBczU90wdXO"
      }
    },
    {
      "cell_type": "code",
      "source": [
        "# 17. Función interactiva para probar frases personalizadas\n",
        "\n",
        "def probar_frases_personalizadas(modelo, tokenizer, maxlen, threshold=0.55):\n",
        "    print(\"\\nIngresa frases para clasificar (escribe 'salir' para terminar):\")\n",
        "    while True:\n",
        "        frase = input(\"Frase: \")  # Solicita entrada del usuario\n",
        "        if frase.lower() == 'salir':  # Condición para salir del bucle\n",
        "            break\n",
        "        # Preprocesar y limpiar la frase ingresada\n",
        "        frase_limpia = clean_text(frase)\n",
        "        # Tokenizar la frase limpia\n",
        "        secuencia = tokenizer.texts_to_sequences([frase_limpia])\n",
        "        # Ajustar la secuencia a la longitud máxima con padding\n",
        "        padded = pad_sequences(secuencia, maxlen=maxlen, padding='post')\n",
        "        # Obtener la predicción del modelo\n",
        "        pred = modelo.predict(padded)[0][0]\n",
        "        # Determinar etiqueta según el umbral\n",
        "        etiqueta = \"Positiva\" if pred > threshold else \"Negativa\"\n",
        "        # Mostrar resultado al usuario\n",
        "        print(f\"Predicción: {etiqueta} (probabilidad: {pred:.2f})\\n\")\n",
        "\n",
        "# Llamar a la función para iniciar la interacción\n",
        "probar_frases_personalizadas(best_model, tokenizer, maxlen, threshold=0.55)"
      ],
      "metadata": {
        "id": "7OgdyE7Rw3Wp"
      },
      "execution_count": null,
      "outputs": []
    },
    {
      "cell_type": "markdown",
      "source": [
        "### **Conclusiones Generales**\n",
        "\n",
        "El modelo de análisis de sentimiento basado en una arquitectura LSTM bidireccional con embeddings preentrenados de FastText ha demostrado un rendimiento aceptable en la tarea de clasificación binaria de sentimientos en textos en español. Se logró una precisión de validación superior al 80% y una precisión en el conjunto de prueba cercana al 79%, lo que refleja una capacidad general de aprendizaje y generalización.\n",
        "\n",
        "Sin embargo, los resultados de las predicciones con frases variadas revelan ciertas limitaciones importantes. El modelo presenta dificultades para identificar adecuadamente algunas opiniones negativas, clasificándolas erróneamente como positivas con alta probabilidad. Esto indica una posible tendencia hacia la clasificación positiva, probablemente producto de un desbalance en el conjunto de entrenamiento o una sensibilidad limitada a estructuras lingüísticas más complejas o sarcásticas.\n",
        "\n",
        "Además, se evidenció una baja capacidad para tratar frases ambiguas o mixtas, lo que sugiere que el modelo no logra captar con precisión la neutralidad o los matices del lenguaje. A pesar de estas debilidades, el comportamiento general del modelo sigue siendo útil como una herramienta de análisis automatizado de sentimientos, especialmente en contextos donde predominan expresiones claras y directas.\n",
        "\n",
        "\n",
        "\n",
        "### **Recomendaciones Finales**\n",
        "\n",
        "1. **Aumento y Diversificación de Datos:** Ampliar el corpus de entrenamiento con frases de tono negativo y neutro, así como ejemplos con ironía o ambigüedad, para mejorar la sensibilidad del modelo ante diferentes matices emocionales.\n",
        "\n",
        "2. **Balance de Clases:** Revisar y equilibrar la proporción de ejemplos positivos y negativos en el conjunto de datos, ya que la actual inclinación hacia predicciones positivas puede deberse a un sesgo del modelo durante el entrenamiento.\n",
        "\n",
        "3. **Ajuste del Umbral de Clasificación:** Considerar la modificación del umbral de decisión para evitar la clasificación errónea de frases negativas como positivas, especialmente en contextos sensibles o aplicaciones críticas.\n",
        "\n",
        "4. **Ajuste de Hiperparámetros:** Explorar diferentes configuraciones en dropout, tamaño de la red, funciones de activación y tasa de aprendizaje para reducir el sobreajuste observado.\n",
        "\n",
        "5. **Extensión a Clasificación Trinaria:** Implementar una versión del modelo que incluya una clase neutral, con el fin de capturar con mayor fidelidad la diversidad semántica de los textos reales.\n",
        "\n",
        "6. **Validación con Casos Reales:** Continuar evaluando el modelo con frases reales y actualizadas, tanto sintéticas como extraídas de fuentes externas (reseñas, redes sociales, etc.), para mantener su vigencia y mejorar su capacidad de adaptación.\n",
        "\n",
        "7. **Técnicas de Interpretabilidad:** Incorporar herramientas de interpretabilidad como LIME o SHAP para entender mejor las decisiones del modelo y detectar patrones que conduzcan a errores sistemáticos."
      ],
      "metadata": {
        "id": "P_DexQ0W5Ev8"
      }
    }
  ],
  "metadata": {
    "colab": {
      "provenance": []
    },
    "kernelspec": {
      "display_name": "Python 3",
      "name": "python3"
    },
    "language_info": {
      "name": "python"
    }
  },
  "nbformat": 4,
  "nbformat_minor": 0
}