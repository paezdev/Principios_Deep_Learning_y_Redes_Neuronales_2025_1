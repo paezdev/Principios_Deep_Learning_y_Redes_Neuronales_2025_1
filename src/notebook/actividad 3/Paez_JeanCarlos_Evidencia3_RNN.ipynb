{
  "nbformat": 4,
  "nbformat_minor": 0,
  "metadata": {
    "colab": {
      "provenance": []
    },
    "kernelspec": {
      "name": "python3",
      "display_name": "Python 3"
    },
    "language_info": {
      "name": "python"
    }
  },
  "cells": [
    {
      "cell_type": "markdown",
      "source": [
        "<div style=\"text-align: center;\">\n",
        "  <span style=\"color:#809bd8; font-size: 24px; font-weight: bold;\">Institución Universitaria Digital de Antioquia</span>\n",
        "  <br>\n",
        "  <img src=\"https://imgur.com/KUMa2uy.png\" alt=\"DataFrame frutas\" style=\"max-width: 20%; height: auto;\">\n",
        "</div>\n",
        "\n",
        "---\n",
        "**<span style=\"color:#809bd8\">Evidencia de Aprendizaje:</span>** S20 - Evidencia de aprendizaje 3: Implementación básica de una red neuronal\n",
        "\n",
        "**<span style=\"color:#809bd8\">Asignatura:</span>** Principios de Deep Learning y Redes Neuronales\n",
        "\n",
        "**<span style=\"color:#809bd8\">Estudiante:</span>** Jean Carlos Páez Ramírez\n",
        "\n",
        "**<span style=\"color:#809bd8\">Grupo:</span>** PREICA2501B020140\n",
        "\n",
        "**<span style=\"color:#809bd8\">Docente:</span>** Sharon Karin Camacho Guzman (Ingeniera Administradora Especialista en ingeniería Financiera de la Universidad Nacional de Colombia)\n",
        "\n",
        "**<span style=\"color:#809bd8\">Fecha:</span>** 08 de junio de 2025"
      ],
      "metadata": {
        "id": "IU17eOXgPoLn"
      }
    },
    {
      "cell_type": "markdown",
      "source": [
        "## **Introducción**\n",
        "\n",
        "Este trabajo implementa una **red neuronal recurrente básica (RNN)** utilizando **TensorFlow**, enfocada en el **análisis de sentimiento de comentarios de producto**s. El objetivo principal es **clasificar los comentarios en categorías positivas o negativas**, siguiendo los lineamientos establecidos en la evidencia de aprendizaje.\n",
        "\n",
        "Para ello, **se construyó un modelo sencillo** que incluye una **capa de embedding** para la representación vectorial de las palabras, **una capa RNN** para el procesamiento secuencial de los datos y **una capa densa final** con activación **sigmoide** para la clasificación binaria.\n",
        "\n",
        "Aunque el conjunto de datos empleado fue reducido y simulado, la implementación permite demostrar el funcionamiento general de este tipo de modelos. **Para mejorar el rendimiento en aplicaciones reales**, se recomienda utilizar **conjuntos de datos más amplios y representativos**, así como explorar arquitecturas más avanzadas como **LSTM o GRU**. Esta evidencia constituye una base sólida para **continuar el desarrollo y profundización en el proyecto integrador.**"
      ],
      "metadata": {
        "id": "o2fXqrDaO6P1"
      }
    },
    {
      "cell_type": "code",
      "source": [
        "# 1. Importación de librerías necesarias\n",
        "import tensorflow as tf\n",
        "from tensorflow.keras.models import Sequential\n",
        "from tensorflow.keras.layers import Embedding, SimpleRNN, Dense\n",
        "from tensorflow.keras.preprocessing.text import Tokenizer\n",
        "from tensorflow.keras.preprocessing.sequence import pad_sequences\n",
        "import numpy as np"
      ],
      "metadata": {
        "id": "0wNNZieJKYyM"
      },
      "execution_count": null,
      "outputs": []
    },
    {
      "cell_type": "code",
      "source": [
        "# 2. Datos de ejemplo (comentarios de texto simulados)\n",
        "comentarios = [\n",
        "    \"me encantó el producto\",\n",
        "    \"muy mala calidad\",\n",
        "    \"excelente servicio\",\n",
        "    \"no lo recomiendo\",\n",
        "    \"estoy satisfecho con la compra\",\n",
        "    \"horrible experiencia\",\n",
        "    \"muy buen producto\",\n",
        "    \"no me gustó nada\",\n",
        "    \"perfecto para lo que necesitaba\",\n",
        "    \"pésimo servicio\"\n",
        "]"
      ],
      "metadata": {
        "id": "nHA4BLW_KcYO"
      },
      "execution_count": null,
      "outputs": []
    },
    {
      "cell_type": "code",
      "source": [
        "# 3. Etiquetas: 1 = positivo, 0 = negativo\n",
        "etiquetas = np.array([1, 0, 1, 0, 1, 0, 1, 0, 1, 0])"
      ],
      "metadata": {
        "id": "dql8dAAnKfN_"
      },
      "execution_count": null,
      "outputs": []
    },
    {
      "cell_type": "code",
      "source": [
        "# 4. Tokenización del texto: convertir palabras a enteros\n",
        "tokenizer = Tokenizer()\n",
        "tokenizer.fit_on_texts(comentarios)\n",
        "secuencias = tokenizer.texts_to_sequences(comentarios)"
      ],
      "metadata": {
        "id": "Es7UUZlQKjla"
      },
      "execution_count": null,
      "outputs": []
    },
    {
      "cell_type": "code",
      "source": [
        "# 5. Padding para unificar longitud de secuencias\n",
        "max_len = max(len(x) for x in secuencias)\n",
        "entradas = pad_sequences(secuencias, maxlen=max_len, padding='post')"
      ],
      "metadata": {
        "id": "KZ4CCqFwKk-U"
      },
      "execution_count": null,
      "outputs": []
    },
    {
      "cell_type": "markdown",
      "source": [
        "### **Nota sobre la capa Pooling**\n",
        "\n",
        "En modelos de procesamiento de texto con redes neuronales recurrentes (RNN), **la capa pooling no es necesaria**, ya que la RNN procesa toda la secuencia y genera una representación global en su salida. Por eso, en esta arquitectura no se incluye una capa pooling. Si se usara una arquitectura basada en CNN o solo embeddings, la capa pooling sería fundamental para resumir la información de la secuencia.\n",
        "\n",
        "### **¿Qué pasa si la agrego?**\n",
        "Si intento poner una capa pooling entre el Embedding y la RNN, el modelo no funcionará correctamente, porque la pooling elimina la dimensión temporal que la RNN necesita."
      ],
      "metadata": {
        "id": "ID3n_NXxSpdq"
      }
    },
    {
      "cell_type": "code",
      "source": [
        "# 6. Definición del modelo RNN\n",
        "modelo = Sequential()\n",
        "# Capa de embedding: convierte enteros en vectores densos\n",
        "modelo.add(Embedding(input_dim=len(tokenizer.word_index)+1, output_dim=8, input_length=max_len))\n",
        "# Capa RNN simple\n",
        "modelo.add(SimpleRNN(units=16, activation='tanh'))\n",
        "# Capa densa de salida para clasificación binaria\n",
        "modelo.add(Dense(1, activation='sigmoid'))"
      ],
      "metadata": {
        "id": "ilUSSYA_K6d0"
      },
      "execution_count": null,
      "outputs": []
    },
    {
      "cell_type": "code",
      "source": [
        "# 7. Compilación del modelo\n",
        "modelo.compile(optimizer='adam', loss='binary_crossentropy', metrics=['accuracy'])"
      ],
      "metadata": {
        "id": "mhGThe-IK90G"
      },
      "execution_count": null,
      "outputs": []
    },
    {
      "cell_type": "code",
      "source": [
        "# 8. Construir el modelo explícitamente para que summary muestre los parámetros correctamente\n",
        "modelo.build(input_shape=(None, max_len))"
      ],
      "metadata": {
        "id": "1cbcqNo9MRl2"
      },
      "execution_count": null,
      "outputs": []
    },
    {
      "cell_type": "code",
      "source": [
        "# 9. Resumen de la arquitectura\n",
        "modelo.summary()"
      ],
      "metadata": {
        "colab": {
          "base_uri": "https://localhost:8080/",
          "height": 238
        },
        "id": "mHxBFOD5LAvX",
        "outputId": "44bcedf7-ada7-4767-bc57-522c42957b31"
      },
      "execution_count": null,
      "outputs": [
        {
          "output_type": "display_data",
          "data": {
            "text/plain": [
              "\u001b[1mModel: \"sequential_3\"\u001b[0m\n"
            ],
            "text/html": [
              "<pre style=\"white-space:pre;overflow-x:auto;line-height:normal;font-family:Menlo,'DejaVu Sans Mono',consolas,'Courier New',monospace\"><span style=\"font-weight: bold\">Model: \"sequential_3\"</span>\n",
              "</pre>\n"
            ]
          },
          "metadata": {}
        },
        {
          "output_type": "display_data",
          "data": {
            "text/plain": [
              "┏━━━━━━━━━━━━━━━━━━━━━━━━━━━━━━━━━┳━━━━━━━━━━━━━━━━━━━━━━━━┳━━━━━━━━━━━━━━━┓\n",
              "┃\u001b[1m \u001b[0m\u001b[1mLayer (type)                   \u001b[0m\u001b[1m \u001b[0m┃\u001b[1m \u001b[0m\u001b[1mOutput Shape          \u001b[0m\u001b[1m \u001b[0m┃\u001b[1m \u001b[0m\u001b[1m      Param #\u001b[0m\u001b[1m \u001b[0m┃\n",
              "┡━━━━━━━━━━━━━━━━━━━━━━━━━━━━━━━━━╇━━━━━━━━━━━━━━━━━━━━━━━━╇━━━━━━━━━━━━━━━┩\n",
              "│ embedding_3 (\u001b[38;5;33mEmbedding\u001b[0m)         │ (\u001b[38;5;45mNone\u001b[0m, \u001b[38;5;34m5\u001b[0m, \u001b[38;5;34m8\u001b[0m)           │           \u001b[38;5;34m224\u001b[0m │\n",
              "├─────────────────────────────────┼────────────────────────┼───────────────┤\n",
              "│ simple_rnn_2 (\u001b[38;5;33mSimpleRNN\u001b[0m)        │ (\u001b[38;5;45mNone\u001b[0m, \u001b[38;5;34m16\u001b[0m)             │           \u001b[38;5;34m400\u001b[0m │\n",
              "├─────────────────────────────────┼────────────────────────┼───────────────┤\n",
              "│ dense_3 (\u001b[38;5;33mDense\u001b[0m)                 │ (\u001b[38;5;45mNone\u001b[0m, \u001b[38;5;34m1\u001b[0m)              │            \u001b[38;5;34m17\u001b[0m │\n",
              "└─────────────────────────────────┴────────────────────────┴───────────────┘\n"
            ],
            "text/html": [
              "<pre style=\"white-space:pre;overflow-x:auto;line-height:normal;font-family:Menlo,'DejaVu Sans Mono',consolas,'Courier New',monospace\">┏━━━━━━━━━━━━━━━━━━━━━━━━━━━━━━━━━┳━━━━━━━━━━━━━━━━━━━━━━━━┳━━━━━━━━━━━━━━━┓\n",
              "┃<span style=\"font-weight: bold\"> Layer (type)                    </span>┃<span style=\"font-weight: bold\"> Output Shape           </span>┃<span style=\"font-weight: bold\">       Param # </span>┃\n",
              "┡━━━━━━━━━━━━━━━━━━━━━━━━━━━━━━━━━╇━━━━━━━━━━━━━━━━━━━━━━━━╇━━━━━━━━━━━━━━━┩\n",
              "│ embedding_3 (<span style=\"color: #0087ff; text-decoration-color: #0087ff\">Embedding</span>)         │ (<span style=\"color: #00d7ff; text-decoration-color: #00d7ff\">None</span>, <span style=\"color: #00af00; text-decoration-color: #00af00\">5</span>, <span style=\"color: #00af00; text-decoration-color: #00af00\">8</span>)           │           <span style=\"color: #00af00; text-decoration-color: #00af00\">224</span> │\n",
              "├─────────────────────────────────┼────────────────────────┼───────────────┤\n",
              "│ simple_rnn_2 (<span style=\"color: #0087ff; text-decoration-color: #0087ff\">SimpleRNN</span>)        │ (<span style=\"color: #00d7ff; text-decoration-color: #00d7ff\">None</span>, <span style=\"color: #00af00; text-decoration-color: #00af00\">16</span>)             │           <span style=\"color: #00af00; text-decoration-color: #00af00\">400</span> │\n",
              "├─────────────────────────────────┼────────────────────────┼───────────────┤\n",
              "│ dense_3 (<span style=\"color: #0087ff; text-decoration-color: #0087ff\">Dense</span>)                 │ (<span style=\"color: #00d7ff; text-decoration-color: #00d7ff\">None</span>, <span style=\"color: #00af00; text-decoration-color: #00af00\">1</span>)              │            <span style=\"color: #00af00; text-decoration-color: #00af00\">17</span> │\n",
              "└─────────────────────────────────┴────────────────────────┴───────────────┘\n",
              "</pre>\n"
            ]
          },
          "metadata": {}
        },
        {
          "output_type": "display_data",
          "data": {
            "text/plain": [
              "\u001b[1m Total params: \u001b[0m\u001b[38;5;34m641\u001b[0m (2.50 KB)\n"
            ],
            "text/html": [
              "<pre style=\"white-space:pre;overflow-x:auto;line-height:normal;font-family:Menlo,'DejaVu Sans Mono',consolas,'Courier New',monospace\"><span style=\"font-weight: bold\"> Total params: </span><span style=\"color: #00af00; text-decoration-color: #00af00\">641</span> (2.50 KB)\n",
              "</pre>\n"
            ]
          },
          "metadata": {}
        },
        {
          "output_type": "display_data",
          "data": {
            "text/plain": [
              "\u001b[1m Trainable params: \u001b[0m\u001b[38;5;34m641\u001b[0m (2.50 KB)\n"
            ],
            "text/html": [
              "<pre style=\"white-space:pre;overflow-x:auto;line-height:normal;font-family:Menlo,'DejaVu Sans Mono',consolas,'Courier New',monospace\"><span style=\"font-weight: bold\"> Trainable params: </span><span style=\"color: #00af00; text-decoration-color: #00af00\">641</span> (2.50 KB)\n",
              "</pre>\n"
            ]
          },
          "metadata": {}
        },
        {
          "output_type": "display_data",
          "data": {
            "text/plain": [
              "\u001b[1m Non-trainable params: \u001b[0m\u001b[38;5;34m0\u001b[0m (0.00 B)\n"
            ],
            "text/html": [
              "<pre style=\"white-space:pre;overflow-x:auto;line-height:normal;font-family:Menlo,'DejaVu Sans Mono',consolas,'Courier New',monospace\"><span style=\"font-weight: bold\"> Non-trainable params: </span><span style=\"color: #00af00; text-decoration-color: #00af00\">0</span> (0.00 B)\n",
              "</pre>\n"
            ]
          },
          "metadata": {}
        }
      ]
    },
    {
      "cell_type": "code",
      "source": [
        "# 10. Entrenamiento del modelo\n",
        "modelo.fit(entradas, etiquetas, epochs=10, verbose=1)"
      ],
      "metadata": {
        "colab": {
          "base_uri": "https://localhost:8080/"
        },
        "id": "76NO4pyNLDDQ",
        "outputId": "20d06f84-96d4-4ea8-ba2f-b033413f759a"
      },
      "execution_count": null,
      "outputs": [
        {
          "output_type": "stream",
          "name": "stdout",
          "text": [
            "Epoch 1/10\n",
            "\u001b[1m1/1\u001b[0m \u001b[32m━━━━━━━━━━━━━━━━━━━━\u001b[0m\u001b[37m\u001b[0m \u001b[1m2s\u001b[0m 2s/step - accuracy: 0.6000 - loss: 0.6897\n",
            "Epoch 2/10\n",
            "\u001b[1m1/1\u001b[0m \u001b[32m━━━━━━━━━━━━━━━━━━━━\u001b[0m\u001b[37m\u001b[0m \u001b[1m0s\u001b[0m 48ms/step - accuracy: 0.6000 - loss: 0.6857\n",
            "Epoch 3/10\n",
            "\u001b[1m1/1\u001b[0m \u001b[32m━━━━━━━━━━━━━━━━━━━━\u001b[0m\u001b[37m\u001b[0m \u001b[1m0s\u001b[0m 60ms/step - accuracy: 0.6000 - loss: 0.6816\n",
            "Epoch 4/10\n",
            "\u001b[1m1/1\u001b[0m \u001b[32m━━━━━━━━━━━━━━━━━━━━\u001b[0m\u001b[37m\u001b[0m \u001b[1m0s\u001b[0m 59ms/step - accuracy: 0.6000 - loss: 0.6775\n",
            "Epoch 5/10\n",
            "\u001b[1m1/1\u001b[0m \u001b[32m━━━━━━━━━━━━━━━━━━━━\u001b[0m\u001b[37m\u001b[0m \u001b[1m0s\u001b[0m 47ms/step - accuracy: 0.6000 - loss: 0.6733\n",
            "Epoch 6/10\n",
            "\u001b[1m1/1\u001b[0m \u001b[32m━━━━━━━━━━━━━━━━━━━━\u001b[0m\u001b[37m\u001b[0m \u001b[1m0s\u001b[0m 51ms/step - accuracy: 0.6000 - loss: 0.6690\n",
            "Epoch 7/10\n",
            "\u001b[1m1/1\u001b[0m \u001b[32m━━━━━━━━━━━━━━━━━━━━\u001b[0m\u001b[37m\u001b[0m \u001b[1m0s\u001b[0m 46ms/step - accuracy: 0.7000 - loss: 0.6646\n",
            "Epoch 8/10\n",
            "\u001b[1m1/1\u001b[0m \u001b[32m━━━━━━━━━━━━━━━━━━━━\u001b[0m\u001b[37m\u001b[0m \u001b[1m0s\u001b[0m 45ms/step - accuracy: 0.7000 - loss: 0.6601\n",
            "Epoch 9/10\n",
            "\u001b[1m1/1\u001b[0m \u001b[32m━━━━━━━━━━━━━━━━━━━━\u001b[0m\u001b[37m\u001b[0m \u001b[1m0s\u001b[0m 52ms/step - accuracy: 0.8000 - loss: 0.6555\n",
            "Epoch 10/10\n",
            "\u001b[1m1/1\u001b[0m \u001b[32m━━━━━━━━━━━━━━━━━━━━\u001b[0m\u001b[37m\u001b[0m \u001b[1m0s\u001b[0m 133ms/step - accuracy: 0.8000 - loss: 0.6507\n"
          ]
        },
        {
          "output_type": "execute_result",
          "data": {
            "text/plain": [
              "<keras.src.callbacks.history.History at 0x7ed54edc1a50>"
            ]
          },
          "metadata": {},
          "execution_count": 41
        }
      ]
    },
    {
      "cell_type": "code",
      "source": [
        "# 11. Prueba con una oración nueva\n",
        "nuevos_comentarios = [\"me gustó mucho\", \"terrible atención\"]\n",
        "secuencias_nuevas = tokenizer.texts_to_sequences(nuevos_comentarios)\n",
        "entradas_nuevas = pad_sequences(secuencias_nuevas, maxlen=max_len, padding='post')\n",
        "predicciones = modelo.predict(entradas_nuevas)"
      ],
      "metadata": {
        "colab": {
          "base_uri": "https://localhost:8080/"
        },
        "id": "OxUIq_ZvLFiA",
        "outputId": "550e2a92-e544-421a-9edc-6e7b895b9257"
      },
      "execution_count": null,
      "outputs": [
        {
          "output_type": "stream",
          "name": "stdout",
          "text": [
            "\u001b[1m1/1\u001b[0m \u001b[32m━━━━━━━━━━━━━━━━━━━━\u001b[0m\u001b[37m\u001b[0m \u001b[1m0s\u001b[0m 167ms/step\n"
          ]
        }
      ]
    },
    {
      "cell_type": "code",
      "source": [
        "# 12. Mostrar predicciones\n",
        "for comentario, pred in zip(nuevos_comentarios, predicciones):\n",
        "    print(f\"Comentario: '{comentario}' -> Sentimiento positivo: {pred[0]:.2f}\")"
      ],
      "metadata": {
        "colab": {
          "base_uri": "https://localhost:8080/"
        },
        "id": "6I7VEUjhLIXq",
        "outputId": "0ba48646-ba4a-4a6e-ec7a-10e463c44361"
      },
      "execution_count": null,
      "outputs": [
        {
          "output_type": "stream",
          "name": "stdout",
          "text": [
            "Comentario: 'me gustó mucho' -> Sentimiento positivo: 0.48\n",
            "Comentario: 'terrible atención' -> Sentimiento positivo: 0.49\n"
          ]
        }
      ]
    },
    {
      "cell_type": "markdown",
      "source": [
        "## **Conclusiones y Recomendaciones**\n",
        "\n",
        "### **Conclusiones:**\n",
        "\n",
        "El modelo de red neuronal recurrente (RNN) implementado para el análisis de sentimientos en comentarios de productos logró entrenar correctamente y alcanzó una precisión de hasta **0.80** en el conjunto de entrenamiento. La disminución progresiva de la función de pérdida indica que ***el modelo fue capaz de aprender patrones a partir de los datos proporcionados.***\n",
        "\n",
        "**Sin embargo**, al evaluar el modelo con nuevos comentarios, ***las predicciones obtenidas estuvieron muy cercanas a 0.5, lo que refleja que el modelo no está completamente seguro al clasificar estos ejemplos como positivos o negativos.*** Esto es esperable debido a que ***el conjunto de datos utilizado para el entrenamiento es muy pequeño*** y las frases de prueba contienen palabras o estructuras que no estaban presentes en los datos originales.\n",
        "\n",
        "### **Recomendaciones:**\n",
        "\n",
        "***Ampliar el conjunto de datos de entrenamiento***, incorporando una mayor cantidad y variedad de comentarios, para que el modelo pueda aprender patrones más generales y robustos.\n",
        "\n",
        "***Realizar un preprocesamiento más avanzado del texto***, como la eliminación de palabras vacías (stopwords), normalización y uso de embeddings preentrenados, para mejorar la representación de los comentarios.\n",
        "***Probar con un mayor número de épocas de entrenamiento si se dispone de más datos,*** para permitir que el modelo ajuste mejor sus parámetros.\n",
        "Evaluar el modelo con frases de prueba que sean más similares a las del entrenamiento, o bien, asegurarse de que el vocabulario de los datos de prueba esté bien representado en el entrenamiento."
      ],
      "metadata": {
        "id": "0hbrYIEZNjCu"
      }
    }
  ]
}