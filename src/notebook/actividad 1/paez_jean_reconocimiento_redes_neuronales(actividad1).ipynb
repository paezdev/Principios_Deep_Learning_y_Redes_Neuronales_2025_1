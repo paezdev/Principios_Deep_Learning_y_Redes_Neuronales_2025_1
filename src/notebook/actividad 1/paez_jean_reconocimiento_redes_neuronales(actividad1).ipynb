{
 "cells": [
  {
   "cell_type": "markdown",
   "id": "c8fb179d",
   "metadata": {},
   "source": [
    "# 🧠 Taller aplicado a caso de estudio para el reconocimiento de las redes neuronales\n",
    "\n",
    "## 🔹 Sección 1: Entradas del modelo para detectar fraudes financieros\n",
    "\n",
    "Para que una red neuronal detecte fraudes en transacciones con tarjetas de crédito, es necesario identificar las **variables relevantes (features)** que alimentarán el modelo.\n",
    "\n",
    "### 🧾 Entradas posibles (features):\n",
    "1. Monto de la transacción (`transaction_amount`)\n",
    "2. Ubicación del comercio vs. ubicación habitual del cliente (`merchant_location_distance`)\n",
    "3. Hora de la transacción (`transaction_hour`)\n",
    "4. Tipo de comercio (`merchant_type`)\n",
    "5. Historial del cliente (`customer_transaction_count`)\n",
    "6. Frecuencia de transacciones recientes (`transactions_last_24h`)\n",
    "7. Tipo de tarjeta (`card_type`)\n",
    "8. Dispositivo usado (`device_id`)\n",
    "9. Dirección IP (`ip_location_match`)\n",
    "10. País de origen (`country_match`)\n",
    "\n",
    "Estas variables permiten detectar transacciones atípicas o inconsistentes, ideales para el modelo de fraude.\n"
   ]
  },
  {
   "cell_type": "markdown",
   "id": "31a43385",
   "metadata": {},
   "source": [
    "## 🔹 Sección 2: Forward Pass y Backward Pass\n",
    "\n",
    "### 🔄 Forward Pass:\n",
    "1. Las entradas se multiplican por pesos, se suma un sesgo (bias).\n",
    "2. El resultado pasa por una función de activación.\n",
    "3. Esto se repite por cada capa hasta obtener la salida.\n",
    "\n",
    "```python\n",
    "# Ejemplo simbólico\n",
    "output = model.predict(X)\n",
    "```\n",
    "\n",
    "### 🔁 Backward Pass:\n",
    "1. Se calcula el error: `error = predicción - valor_real`\n",
    "2. Se ajustan pesos mediante retropropagación (backpropagation).\n",
    "\n",
    "```python\n",
    "# En Keras\n",
    "model.fit(X_train, y_train, epochs=10)\n",
    "```\n",
    "\n",
    "### 🖼️ Visualización\n"
   ]
  },
  {
   "cell_type": "code",
   "execution_count": null,
   "id": "7db17a52",
   "metadata": {},
   "outputs": [],
   "source": [
    "from IPython.display import Image\n",
    "Image('https://miro.medium.com/v2/resize:fit:800/1*V1tzGXRqx9y1qMJ8RBuwNw.png')"
   ]
  },
  {
   "cell_type": "markdown",
   "id": "ba2009d9",
   "metadata": {},
   "source": [
    "## 🔹 Sección 3: Función de Activación\n",
    "\n",
    "### ✅ Función seleccionada: `sigmoid`\n",
    "\n",
    "- Ideal para clasificación binaria.\n",
    "- Produce un valor entre 0 y 1 (probabilidad).\n",
    "- Fórmula: \\( \\sigma(x) = \\frac{1}{1 + e^{-x}} \\)\n",
    "\n",
    "Se usará `sigmoid` en la capa de salida y `relu` en capas ocultas.\n"
   ]
  },
  {
   "cell_type": "markdown",
   "id": "890e9e91",
   "metadata": {},
   "source": [
    "## 🔹 Sección 4: Beneficios y Limitaciones\n",
    "\n",
    "### ✅ Beneficios\n",
    "- Alta precisión\n",
    "- Detección en tiempo real\n",
    "- Adaptabilidad a nuevos fraudes\n",
    "- Escalable a grandes volúmenes\n",
    "\n",
    "### ⚠️ Limitaciones\n",
    "- Datos desbalanceados (fraudes son pocos)\n",
    "- Difícil de interpretar (caja negra)\n",
    "- Riesgo de falsos positivos\n",
    "- Requiere entrenamiento constante\n",
    "\n",
    "### ¿Es una buena aplicación?\n",
    "**Sí**, especialmente si se actualiza regularmente y se gestiona con cuidado.\n"
   ]
  },
  {
   "cell_type": "markdown",
   "id": "b2df27d0",
   "metadata": {},
   "source": [
    "## 🔹 Sección 5: Implementación del Modelo Neuronal\n"
   ]
  },
  {
   "cell_type": "code",
   "execution_count": null,
   "id": "54da5d28",
   "metadata": {},
   "outputs": [],
   "source": [
    "import numpy as np\n",
    "import pandas as pd\n",
    "from sklearn.model_selection import train_test_split\n",
    "from sklearn.preprocessing import StandardScaler\n",
    "from sklearn.metrics import classification_report, confusion_matrix\n",
    "import matplotlib.pyplot as plt\n",
    "import seaborn as sns\n",
    "\n",
    "from tensorflow.keras.models import Sequential\n",
    "from tensorflow.keras.layers import Dense\n",
    "from tensorflow.keras.optimizers import Adam\n"
   ]
  },
  {
   "cell_type": "code",
   "execution_count": null,
   "id": "f17b2547",
   "metadata": {},
   "outputs": [],
   "source": [
    "from sklearn.datasets import make_classification\n",
    "\n",
    "X, y = make_classification(n_samples=10000,\n",
    "                           n_features=10,\n",
    "                           n_informative=6,\n",
    "                           n_redundant=2,\n",
    "                           n_classes=2,\n",
    "                           weights=[0.95, 0.05],\n",
    "                           random_state=42)\n",
    "\n",
    "X_train, X_test, y_train, y_test = train_test_split(X, y, test_size=0.2, random_state=42)\n",
    "\n",
    "scaler = StandardScaler()\n",
    "X_train = scaler.fit_transform(X_train)\n",
    "X_test = scaler.transform(X_test)\n"
   ]
  },
  {
   "cell_type": "code",
   "execution_count": null,
   "id": "5bd1ee0a",
   "metadata": {},
   "outputs": [],
   "source": [
    "model = Sequential()\n",
    "model.add(Dense(16, input_dim=10, activation='relu'))\n",
    "model.add(Dense(8, activation='relu'))\n",
    "model.add(Dense(1, activation='sigmoid'))\n",
    "\n",
    "model.compile(optimizer=Adam(learning_rate=0.001), loss='binary_crossentropy', metrics=['accuracy'])\n"
   ]
  },
  {
   "cell_type": "code",
   "execution_count": null,
   "id": "2b2d4cad",
   "metadata": {},
   "outputs": [],
   "source": [
    "history = model.fit(X_train, y_train, epochs=20, batch_size=32, validation_split=0.2, verbose=1)\n"
   ]
  },
  {
   "cell_type": "code",
   "execution_count": null,
   "id": "332c0dd8",
   "metadata": {},
   "outputs": [],
   "source": [
    "plt.figure(figsize=(12,4))\n",
    "\n",
    "plt.subplot(1,2,1)\n",
    "plt.plot(history.history['accuracy'], label='Train Acc')\n",
    "plt.plot(history.history['val_accuracy'], label='Val Acc')\n",
    "plt.title('Precisión')\n",
    "plt.xlabel('Epoch')\n",
    "plt.ylabel('Accuracy')\n",
    "plt.legend()\n",
    "\n",
    "plt.subplot(1,2,2)\n",
    "plt.plot(history.history['loss'], label='Train Loss')\n",
    "plt.plot(history.history['val_loss'], label='Val Loss')\n",
    "plt.title('Pérdida')\n",
    "plt.xlabel('Epoch')\n",
    "plt.ylabel('Loss')\n",
    "plt.legend()\n",
    "\n",
    "plt.show()\n"
   ]
  },
  {
   "cell_type": "code",
   "execution_count": null,
   "id": "2dc2ee1c",
   "metadata": {},
   "outputs": [],
   "source": [
    "y_pred = (model.predict(X_test) > 0.5).astype(\"int32\")\n",
    "\n",
    "print(\"Reporte de Clasificación:\")\n",
    "print(classification_report(y_test, y_pred))\n",
    "\n",
    "cm = confusion_matrix(y_test, y_pred)\n",
    "\n",
    "plt.figure(figsize=(6,5))\n",
    "sns.heatmap(cm, annot=True, fmt=\"d\", cmap=\"Blues\", xticklabels=[\"Legítimo\", \"Fraude\"], yticklabels=[\"Legítimo\", \"Fraude\"])\n",
    "plt.xlabel(\"Predicho\")\n",
    "plt.ylabel(\"Real\")\n",
    "plt.title(\"Matriz de Confusión\")\n",
    "plt.show()\n"
   ]
  }
 ],
 "metadata": {},
 "nbformat": 4,
 "nbformat_minor": 5
}
